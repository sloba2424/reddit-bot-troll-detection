{
 "cells": [
  {
   "cell_type": "code",
   "execution_count": null,
   "metadata": {
    "ExecuteTime": {
     "end_time": "2018-12-13T21:44:28.055955Z",
     "start_time": "2018-12-13T21:44:17.468496Z"
    },
    "colab": {
     "base_uri": "https://localhost:8080/",
     "height": 814
    },
    "colab_type": "code",
    "id": "UScvVEa18PWS",
    "outputId": "fafba16e-c0ef-4160-81ae-2e6a55ed899c"
   },
   "outputs": [],
   "source": [
    "\n",
    "from collections import Counter\n",
    "import re\n",
    "import string\n",
    "from random import shuffle\n",
    "\n",
    "from subprocess import call\n",
    "from IPython.display import Image\n",
    "\n",
    "import numpy as np\n",
    "import pandas as pd\n",
    "\n",
    "import seaborn as sns\n",
    "import matplotlib.pyplot as plt\n",
    "\n",
    "import spacy\n",
    "from scipy import stats\n",
    "\n",
    "from textblob import TextBlob\n",
    "\n",
    "import textstat\n",
    "\n",
    "import matplotlib.pyplot as plt\n",
    "import seaborn as sns\n",
    "plt.style.use(\"ggplot\")\n",
    "\n",
    "from scipy import stats\n",
    "\n",
    "import spacy\n",
    "\n",
    "from sklearn import metrics\n",
    "from sklearn.model_selection import train_test_split\n",
    "from sklearn.preprocessing import StandardScaler\n",
    "\n",
    "from sklearn.linear_model import LogisticRegression\n",
    "from sklearn.ensemble import RandomForestClassifier\n",
    "\n",
    "from sklearn import metrics\n",
    "from sklearn.metrics import classification_report, confusion_matrix, accuracy_score\n",
    "\n",
    "from yellowbrick.classifier import ClassificationReport\n",
    "\n",
    "from empath import Empath\n",
    "\n",
    "from sklearn.model_selection import RandomizedSearchCV\n",
    "from sklearn.tree import export_graphviz"
   ]
  },
  {
   "cell_type": "code",
   "execution_count": null,
   "metadata": {
    "ExecuteTime": {
     "end_time": "2018-12-13T21:39:35.296627Z",
     "start_time": "2018-12-13T21:39:34.847753Z"
    },
    "colab": {
     "base_uri": "https://localhost:8080/",
     "height": 105
    },
    "colab_type": "code",
    "id": "sv4kEken84Yx",
    "outputId": "fca631db-4f60-4760-b983-922d84724540"
   },
   "outputs": [],
   "source": [
    "Regular_Comments=pd.read_csv(\"regular_comments.csv\", error_bad_lines=False)"
   ]
  },
  {
   "cell_type": "code",
   "execution_count": null,
   "metadata": {
    "ExecuteTime": {
     "end_time": "2018-12-13T21:39:36.539263Z",
     "start_time": "2018-12-13T21:39:36.418730Z"
    },
    "colab": {},
    "colab_type": "code",
    "id": "dGUjbICN9G4n"
   },
   "outputs": [],
   "source": [
    "Russians_Bots=pd.read_csv(\"russian_comments.csv\")"
   ]
  },
  {
   "cell_type": "code",
   "execution_count": null,
   "metadata": {
    "ExecuteTime": {
     "end_time": "2018-12-13T21:39:37.838312Z",
     "start_time": "2018-12-13T21:39:37.826216Z"
    },
    "colab": {},
    "colab_type": "code",
    "id": "EinbpiPqdJCQ"
   },
   "outputs": [],
   "source": [
    "Regular_Comments=Regular_Comments[[\"body\",'controversiality','created_utc',\"subreddit\",\"score\"]]"
   ]
  },
  {
   "cell_type": "code",
   "execution_count": null,
   "metadata": {
    "ExecuteTime": {
     "end_time": "2018-12-13T21:39:38.406067Z",
     "start_time": "2018-12-13T21:39:38.397202Z"
    },
    "colab": {},
    "colab_type": "code",
    "id": "xp0ETadpcamL"
   },
   "outputs": [],
   "source": [
    "Russian_Bots=Russians_Bots[[\"body\",\"controversiality\",\"created_utc\",\"subreddit.display_name_prefixed\",\"score\"]]"
   ]
  },
  {
   "cell_type": "code",
   "execution_count": null,
   "metadata": {
    "ExecuteTime": {
     "end_time": "2018-12-13T21:39:38.880633Z",
     "start_time": "2018-12-13T21:39:38.843209Z"
    },
    "colab": {
     "base_uri": "https://localhost:8080/",
     "height": 204
    },
    "colab_type": "code",
    "id": "WsFlaS9MeITF",
    "outputId": "61f3e86f-17df-47bc-ee94-e663bed9ef0b"
   },
   "outputs": [],
   "source": [
    "Regular_Comments.head()"
   ]
  },
  {
   "cell_type": "markdown",
   "metadata": {
    "colab_type": "text",
    "id": "Xdzmg1q7e2dZ"
   },
   "source": [
    "# Analiziranje subreddita"
   ]
  },
  {
   "cell_type": "code",
   "execution_count": null,
   "metadata": {
    "ExecuteTime": {
     "end_time": "2018-12-13T21:39:39.764334Z",
     "start_time": "2018-12-13T21:39:39.725157Z"
    },
    "colab": {
     "base_uri": "https://localhost:8080/",
     "height": 297
    },
    "colab_type": "code",
    "id": "6jfuCMiqltlU",
    "outputId": "f4439751-d6ff-4a22-e2e6-d95da630ebff",
    "scrolled": false
   },
   "outputs": [],
   "source": [
    "Regular_Comments.describe()"
   ]
  },
  {
   "cell_type": "code",
   "execution_count": null,
   "metadata": {
    "ExecuteTime": {
     "end_time": "2018-12-13T21:39:40.409357Z",
     "start_time": "2018-12-13T21:39:39.928363Z"
    },
    "colab": {
     "base_uri": "https://localhost:8080/",
     "height": 485
    },
    "colab_type": "code",
    "id": "xDKlHyDj-LlI",
    "outputId": "70471dd6-5dc9-424a-97d5-081c18660c9c"
   },
   "outputs": [],
   "source": [
    "#Najpopularniji subredditi medju botovima\n",
    "Russian_Bots.head()\n",
    "ax=Russian_Bots[\"subreddit.display_name_prefixed\"].value_counts()[:10].plot(kind=\"bar\",title=\"Najpopularniji subredditi medju botovima\")\n",
    "ax.set_xlabel(\"Subreddit\")\n",
    "ax.set_ylabel(\"Broj komentara\")"
   ]
  },
  {
   "cell_type": "code",
   "execution_count": null,
   "metadata": {
    "ExecuteTime": {
     "end_time": "2018-12-13T21:39:40.850737Z",
     "start_time": "2018-12-13T21:39:40.412716Z"
    },
    "colab": {
     "base_uri": "https://localhost:8080/",
     "height": 460
    },
    "colab_type": "code",
    "id": "779NlIkS-Mbg",
    "outputId": "0f892b61-3840-42b8-e349-5bfbe49f323b"
   },
   "outputs": [],
   "source": [
    "#Najpopularniji subredditi medju regularnim komentarima\n",
    "Regular_Comments.head()\n",
    "ax=Regular_Comments[\"subreddit\"].value_counts()[:10].plot(kind=\"bar\",title=\"Najpopularniji subredditi medju regularnim korisnicima\")\n",
    "ax.set_xlabel(\"Ime subreddita\")\n",
    "ax.set_ylabel(\"Broj komentara sa subreddita\")"
   ]
  },
  {
   "cell_type": "code",
   "execution_count": null,
   "metadata": {
    "ExecuteTime": {
     "end_time": "2018-12-13T21:39:40.926019Z",
     "start_time": "2018-12-13T21:39:40.854208Z"
    },
    "colab": {
     "base_uri": "https://localhost:8080/",
     "height": 34
    },
    "colab_type": "code",
    "id": "pZ-oPpXp-Oew",
    "outputId": "aa8e12a5-b59e-4353-ccfb-b8d991538d7a"
   },
   "outputs": [],
   "source": [
    "#Broj regularnih komentara\n",
    "len(Regular_Comments.drop_duplicates())"
   ]
  },
  {
   "cell_type": "code",
   "execution_count": null,
   "metadata": {
    "ExecuteTime": {
     "end_time": "2018-12-13T21:39:40.949364Z",
     "start_time": "2018-12-13T21:39:40.930246Z"
    },
    "colab": {},
    "colab_type": "code",
    "id": "S-j98Ns9_LrV"
   },
   "outputs": [],
   "source": [
    "#Semplovanje regularnih komentara da ih bude isto koliko i ruskih bot komentara\n",
    "Regular_Comments_Sample=Regular_Comments.sample(n=len(Russian_Bots),random_state=1)"
   ]
  },
  {
   "cell_type": "code",
   "execution_count": null,
   "metadata": {
    "ExecuteTime": {
     "end_time": "2018-12-13T21:39:41.338836Z",
     "start_time": "2018-12-13T21:39:40.952953Z"
    },
    "colab": {
     "base_uri": "https://localhost:8080/",
     "height": 427
    },
    "colab_type": "code",
    "id": "DmR41TMn_kC4",
    "outputId": "b84c8ec8-3f84-46c9-83d2-33a7ce0e2207"
   },
   "outputs": [],
   "source": [
    "#Najpopularniji subredditi medju semplovanim komentarima\n",
    "Regular_Comments_Sample[\"subreddit\"].value_counts()[:10].plot(kind=\"bar\")"
   ]
  },
  {
   "cell_type": "code",
   "execution_count": null,
   "metadata": {
    "ExecuteTime": {
     "end_time": "2018-12-13T21:39:41.373051Z",
     "start_time": "2018-12-13T21:39:41.341990Z"
    },
    "colab": {
     "base_uri": "https://localhost:8080/",
     "height": 68
    },
    "colab_type": "code",
    "id": "LB0zsSf5_12K",
    "outputId": "41b25136-65a6-4a11-e90c-183010c01b4b"
   },
   "outputs": [],
   "source": [
    "#Koliko najpopularnijih subreddita ima na oba dataseta\n",
    "Regular_Comments_Sample[\"subreddit\"].value_counts()[:20].index.isin(Regular_Comments[\"subreddit\"].value_counts()[:20].index)"
   ]
  },
  {
   "cell_type": "code",
   "execution_count": null,
   "metadata": {
    "ExecuteTime": {
     "end_time": "2018-12-13T21:39:41.403936Z",
     "start_time": "2018-12-13T21:39:41.376061Z"
    },
    "colab": {
     "base_uri": "https://localhost:8080/",
     "height": 102
    },
    "colab_type": "code",
    "id": "oxs38TKJBv_Y",
    "outputId": "f1eabdfe-a70c-40b2-9f64-181a294cd98e"
   },
   "outputs": [],
   "source": [
    "#Dvadeset najcescih subreddita\n",
    "Regular_Comments[\"subreddit\"].value_counts()[:20].index"
   ]
  },
  {
   "cell_type": "markdown",
   "metadata": {
    "colab_type": "text",
    "id": "eNVxyTFtfMa1"
   },
   "source": [
    "# Analiziranje upvote-ova"
   ]
  },
  {
   "cell_type": "code",
   "execution_count": null,
   "metadata": {
    "ExecuteTime": {
     "end_time": "2018-12-13T21:39:41.421734Z",
     "start_time": "2018-12-13T21:39:41.408183Z"
    },
    "colab": {
     "base_uri": "https://localhost:8080/",
     "height": 204
    },
    "colab_type": "code",
    "id": "K37dGt1HFsz5",
    "outputId": "35653ad8-d49d-4b89-b34c-ab4f021452be"
   },
   "outputs": [],
   "source": [
    "#Najcesci broj upvote-ova na komentarima ruskih botova\n",
    "print(Russian_Bots.score.value_counts()[:10])"
   ]
  },
  {
   "cell_type": "code",
   "execution_count": null,
   "metadata": {
    "ExecuteTime": {
     "end_time": "2018-12-13T21:39:41.502581Z",
     "start_time": "2018-12-13T21:39:41.491370Z"
    },
    "colab": {
     "base_uri": "https://localhost:8080/",
     "height": 238
    },
    "colab_type": "code",
    "id": "hh6Y1pmhBLHf",
    "outputId": "247e3782-63ed-4102-9b75-f8b2981ba373"
   },
   "outputs": [],
   "source": [
    "#Najcesci broj upvote-ova na komentarima regularnih korisnika\n",
    "print(Regular_Comments_Sample.score.value_counts()[:10])"
   ]
  },
  {
   "cell_type": "code",
   "execution_count": null,
   "metadata": {
    "ExecuteTime": {
     "end_time": "2018-12-13T21:39:41.597644Z",
     "start_time": "2018-12-13T21:39:41.589667Z"
    },
    "colab": {
     "base_uri": "https://localhost:8080/",
     "height": 51
    },
    "colab_type": "code",
    "id": "11A3TFrNF1Zu",
    "outputId": "30da17ca-7b1b-46ea-cfd1-43c999e29894"
   },
   "outputs": [],
   "source": [
    "#Mean od upvote-ova komentara\n",
    "print(\"Mean upvote-ova regularnih {}\".format\n",
    "     (np.mean(Regular_Comments_Sample.score)))\n",
    "\n",
    "print(\"Mean botova  {}\".format\n",
    "     ((np.mean(Russian_Bots.score))))\n"
   ]
  },
  {
   "cell_type": "code",
   "execution_count": null,
   "metadata": {
    "ExecuteTime": {
     "end_time": "2018-12-13T21:39:41.651201Z",
     "start_time": "2018-12-13T21:39:41.644173Z"
    },
    "colab": {
     "base_uri": "https://localhost:8080/",
     "height": 34
    },
    "colab_type": "code",
    "id": "EJ6FADWxI8TS",
    "outputId": "f12467be-82dc-4ccc-9cfb-c0cfeb065d06"
   },
   "outputs": [],
   "source": [
    "#100 percentil upvote-ova regularnih \n",
    "print(np.percentile(Regular_Comments_Sample.score.dropna(),100))"
   ]
  },
  {
   "cell_type": "code",
   "execution_count": null,
   "metadata": {
    "ExecuteTime": {
     "end_time": "2018-12-13T21:39:41.730991Z",
     "start_time": "2018-12-13T21:39:41.724781Z"
    },
    "colab": {
     "base_uri": "https://localhost:8080/",
     "height": 34
    },
    "colab_type": "code",
    "id": "LXk6PfDmJAwc",
    "outputId": "ca1e92ff-21c1-4380-a879-64b5e88aec66"
   },
   "outputs": [],
   "source": [
    "#isto za trolove\n",
    "print(np.percentile(Russian_Bots.score.dropna(),100))"
   ]
  },
  {
   "cell_type": "code",
   "execution_count": null,
   "metadata": {
    "ExecuteTime": {
     "end_time": "2018-12-13T21:39:41.827161Z",
     "start_time": "2018-12-13T21:39:41.810467Z"
    },
    "colab": {
     "base_uri": "https://localhost:8080/",
     "height": 34
    },
    "colab_type": "code",
    "id": "GlRrQg32Kp4f",
    "outputId": "a2701bcb-80b5-42ba-e1a3-8e82af89944a"
   },
   "outputs": [],
   "source": [
    "#Pravljenje binova po upvote-ovima za regularne\n",
    "bins=[-10,0,10,100,500,1000]\n",
    "digitized=np.digitize(Regular_Comments_Sample.score, bins)\n",
    "bin_means=[Regular_Comments_Sample.score[digitized == i].mean() for i in range(0, len(bins))]\n",
    "print(bin_means) #mean upvote-ova za svaki bin"
   ]
  },
  {
   "cell_type": "code",
   "execution_count": null,
   "metadata": {
    "ExecuteTime": {
     "end_time": "2018-12-13T21:39:42.237290Z",
     "start_time": "2018-12-13T21:39:41.896721Z"
    },
    "colab": {
     "base_uri": "https://localhost:8080/",
     "height": 465
    },
    "colab_type": "code",
    "id": "Pfm6GtSpLcQn",
    "outputId": "75f48954-7413-4bcb-c238-a7d0bd656941"
   },
   "outputs": [],
   "source": [
    "#Vizualizacija distribucije za binove\n",
    "ax=sns.countplot(digitized)\n",
    "ax.set(xlabel='bin', ylabel='Broj komentara',title=\"Distribucija upvote-ova regularnih\")"
   ]
  },
  {
   "cell_type": "code",
   "execution_count": null,
   "metadata": {
    "ExecuteTime": {
     "end_time": "2018-12-13T21:39:42.252857Z",
     "start_time": "2018-12-13T21:39:42.240682Z"
    },
    "colab": {},
    "colab_type": "code",
    "id": "kHRz2h5XLddM"
   },
   "outputs": [],
   "source": [
    "#Binovi za botove\n",
    "bins = [-10,0,10,100,500,1000]\n",
    "digitized = np.digitize(Russian_Bots.score, bins)\n",
    "bin_means = [Russian_Bots.score[digitized == i].mean() for i in range(0, len(bins))]"
   ]
  },
  {
   "cell_type": "code",
   "execution_count": null,
   "metadata": {
    "ExecuteTime": {
     "end_time": "2018-12-13T21:39:42.590613Z",
     "start_time": "2018-12-13T21:39:42.256358Z"
    },
    "colab": {
     "base_uri": "https://localhost:8080/",
     "height": 465
    },
    "colab_type": "code",
    "id": "Ssjb5JSALza5",
    "outputId": "8ae280e3-8d8c-41b6-fe1a-cf234dab3c45"
   },
   "outputs": [],
   "source": [
    "ax=sns.countplot(digitized)\n",
    "ax.set(xlabel='bin', ylabel='Broj komentara',title=\"Distribucija upvote-ova botova\")"
   ]
  },
  {
   "cell_type": "markdown",
   "metadata": {
    "colab_type": "text",
    "id": "mg9GqE0DhLTO"
   },
   "source": [
    "# Analiziranje vremena postovanja"
   ]
  },
  {
   "cell_type": "code",
   "execution_count": null,
   "metadata": {
    "ExecuteTime": {
     "end_time": "2018-12-13T21:39:42.858676Z",
     "start_time": "2018-12-13T21:39:42.593449Z"
    },
    "colab": {},
    "colab_type": "code",
    "id": "XVZ_9uQ2gaXD"
   },
   "outputs": [],
   "source": [
    "#utc u datetime\n",
    "Russian_Bots[\"date\"] = pd.to_datetime(Russian_Bots['created_utc'],unit='s')\n",
    "Regular_Comments_Sample[\"date\"] = pd.to_datetime(Regular_Comments_Sample['created_utc'],unit='s')\n",
    "#warning je false-positive, ima objasnjenje na stacku zasto, nisam istrazio do kraja jer radi sve"
   ]
  },
  {
   "cell_type": "code",
   "execution_count": null,
   "metadata": {
    "ExecuteTime": {
     "end_time": "2018-12-13T21:39:42.880532Z",
     "start_time": "2018-12-13T21:39:42.862097Z"
    },
    "colab": {},
    "colab_type": "code",
    "id": "FwiWaVKWhUKY"
   },
   "outputs": [],
   "source": [
    "#utc u datetime\n",
    "Russian_Bots[\"Time\"]=Russian_Bots[\"date\"].dt.hour.dropna()\n",
    "Regular_Comments_Sample[\"Time\"]=Regular_Comments_Sample[\"date\"].dt.hour.dropna()\n"
   ]
  },
  {
   "cell_type": "code",
   "execution_count": null,
   "metadata": {
    "ExecuteTime": {
     "end_time": "2018-12-13T21:39:43.438626Z",
     "start_time": "2018-12-13T21:39:42.884449Z"
    },
    "colab": {
     "base_uri": "https://localhost:8080/",
     "height": 465
    },
    "colab_type": "code",
    "id": "W3qcqZyHhVj1",
    "outputId": "4872b816-a725-4c3b-87a1-dece4fa8edc2"
   },
   "outputs": [],
   "source": [
    "ax=sns.countplot(Regular_Comments_Sample.Time)\n",
    "ax.set(title=\"Distribucija vremena postovanja komentara\",xlabel=\"vreme\",ylabel=\"broj komentara\")"
   ]
  },
  {
   "cell_type": "code",
   "execution_count": null,
   "metadata": {
    "ExecuteTime": {
     "end_time": "2018-12-13T21:39:43.990763Z",
     "start_time": "2018-12-13T21:39:43.442165Z"
    },
    "colab": {
     "base_uri": "https://localhost:8080/",
     "height": 465
    },
    "colab_type": "code",
    "id": "x51ZmAGYiyy8",
    "outputId": "fbe10012-8ea9-4e1f-98bc-75ab4cd98b0d"
   },
   "outputs": [],
   "source": [
    "ax=sns.countplot(Russian_Bots.Time)\n",
    "ax.set(title=\"Distribucija vremena postovanja komentara za botove\",xlabel=\"vreme\",ylabel=\"broj komentara\")"
   ]
  },
  {
   "cell_type": "code",
   "execution_count": null,
   "metadata": {
    "ExecuteTime": {
     "end_time": "2018-12-13T21:39:44.010085Z",
     "start_time": "2018-12-13T21:39:43.995373Z"
    },
    "colab": {
     "base_uri": "https://localhost:8080/",
     "height": 34
    },
    "colab_type": "code",
    "id": "e_Hrw2XO0kTz",
    "outputId": "078e3f52-afab-4620-a36c-6ef1121510d2"
   },
   "outputs": [],
   "source": [
    "#Da li je distribucija vremena postovanja statisticki znacajna\n",
    "stats.ks_2samp(Russian_Bots.Time,  Regular_Comments_Sample.Time)"
   ]
  },
  {
   "cell_type": "code",
   "execution_count": null,
   "metadata": {
    "ExecuteTime": {
     "end_time": "2018-12-13T21:39:44.067316Z",
     "start_time": "2018-12-13T21:39:44.014008Z"
    },
    "colab": {
     "base_uri": "https://localhost:8080/",
     "height": 884
    },
    "colab_type": "code",
    "id": "Bt-kAPFtnj5l",
    "outputId": "2939f98f-7f55-4033-ce72-cc2ce15a4e59"
   },
   "outputs": [],
   "source": [
    "#Datumi sa najvise komentara botova\n",
    "Russian_Bots[\"date\"].dt.date.value_counts()[:50]"
   ]
  },
  {
   "cell_type": "code",
   "execution_count": null,
   "metadata": {
    "ExecuteTime": {
     "end_time": "2018-12-13T21:39:44.126238Z",
     "start_time": "2018-12-13T21:39:44.078847Z"
    },
    "colab": {
     "base_uri": "https://localhost:8080/",
     "height": 374
    },
    "colab_type": "code",
    "id": "mVpGwkArnXzP",
    "outputId": "68f724cb-a379-4c17-bdf5-9842c8162d70"
   },
   "outputs": [],
   "source": [
    "#Datumi sa najvise komentara regularnih korisnika \n",
    "Regular_Comments_Sample[\"date\"].dt.date.value_counts()[:20]"
   ]
  },
  {
   "cell_type": "markdown",
   "metadata": {
    "colab_type": "text",
    "id": "hEhyCN9fJ9jk"
   },
   "source": [
    "\"Named Entities\""
   ]
  },
  {
   "cell_type": "code",
   "execution_count": null,
   "metadata": {
    "ExecuteTime": {
     "end_time": "2018-12-13T22:09:30.203334Z",
     "start_time": "2018-12-13T22:09:29.685219Z"
    },
    "colab": {},
    "colab_type": "code",
    "id": "38WXvyUKKA95"
   },
   "outputs": [],
   "source": [
    "nlp = spacy.load('en_core_web_sm')\n",
    "#u novom spacy mora ovako, ranije moglo samo en, zna da baguje sa starijom verzijom spacy-ja"
   ]
  },
  {
   "cell_type": "code",
   "execution_count": null,
   "metadata": {
    "ExecuteTime": {
     "end_time": "2018-12-13T21:39:44.990761Z",
     "start_time": "2018-12-13T21:39:43.028Z"
    },
    "colab": {},
    "colab_type": "code",
    "id": "67hfqXy4UFgF"
   },
   "outputs": [],
   "source": [
    "\n",
    "#sredjivanje datasetova od praznina, spaceova...\n",
    "Russian_Bots.body=Russian_Bots.body.str.replace(\"(\\r)|(\\n)\",\"\")\n",
    "Regular_Comments_Sample.body=Regular_Comments_Sample.body.str.replace(\"(\\r)|(\\n)\",\"\")"
   ]
  },
  {
   "cell_type": "code",
   "execution_count": null,
   "metadata": {
    "ExecuteTime": {
     "end_time": "2018-12-13T21:39:44.994345Z",
     "start_time": "2018-12-13T21:39:43.159Z"
    },
    "colab": {},
    "colab_type": "code",
    "id": "QMZbig3mLGn_"
   },
   "outputs": [],
   "source": [
    "def named_entities(x):\n",
    "    \"\"\"dobavljanje named entities\"\"\"\n",
    "    doc=nlp(x)\n",
    "    named_=[]\n",
    "    for doc in doc.ents:\n",
    "        if doc == None:\n",
    "            return named_\n",
    "        else:\n",
    "            named_.append(doc)\n",
    "    return named_"
   ]
  },
  {
   "cell_type": "code",
   "execution_count": null,
   "metadata": {
    "ExecuteTime": {
     "end_time": "2018-12-13T21:39:44.995918Z",
     "start_time": "2018-12-13T21:39:43.218Z"
    },
    "colab": {},
    "colab_type": "code",
    "id": "__DdnxmZKkyw"
   },
   "outputs": [],
   "source": [
    "#Named entities za regularne\n",
    "Regular_Comments_Sample[\"Named_entities\"]=Regular_Comments_Sample.body.apply(func=lambda x: named_entities(x))"
   ]
  },
  {
   "cell_type": "code",
   "execution_count": null,
   "metadata": {
    "ExecuteTime": {
     "end_time": "2018-12-13T21:39:44.997246Z",
     "start_time": "2018-12-13T21:39:43.279Z"
    },
    "colab": {},
    "colab_type": "code",
    "id": "19vIoi0IMq-9"
   },
   "outputs": [],
   "source": [
    "#NE za botove\n",
    "Russian_Bots[\"Named_entities\"]=Russian_Bots.body.apply(func=lambda x: named_entities(x))"
   ]
  },
  {
   "cell_type": "code",
   "execution_count": null,
   "metadata": {
    "ExecuteTime": {
     "end_time": "2018-12-13T21:39:44.998744Z",
     "start_time": "2018-12-13T21:39:43.337Z"
    },
    "colab": {},
    "colab_type": "code",
    "id": "ee2NPYRfRMlt"
   },
   "outputs": [],
   "source": [
    "def get_polarity(x):\n",
    "  \"\"\"Polarnost svakog komentara.\"\"\"\n",
    "  b = TextBlob(x)\n",
    "  return b.sentiment.polarity"
   ]
  },
  {
   "cell_type": "code",
   "execution_count": null,
   "metadata": {
    "colab": {
     "base_uri": "https://localhost:8080/",
     "height": 34
    },
    "colab_type": "code",
    "id": "FRji5PORRY10",
    "outputId": "7e81d35c-cacb-4bea-9265-506960a6bc0f"
   },
   "outputs": [],
   "source": [
    "#Polarnost regularnih\n",
    "Regular_Comments_Sample[\"Polarity\"]=Regular_Comments_Sample.body.apply(func=lambda x: get_polarity(x))\n",
    "np.mean(Regular_Comments_Sample[\"Polarity\"])"
   ]
  },
  {
   "cell_type": "code",
   "execution_count": null,
   "metadata": {
    "colab": {
     "base_uri": "https://localhost:8080/",
     "height": 34
    },
    "colab_type": "code",
    "id": "Q0vnLcXWR3z4",
    "outputId": "557f6364-5e74-4838-dcba-a9ccf2cddc94"
   },
   "outputs": [],
   "source": [
    "#Polarnost botova\n",
    "Russian_Bots[\"Polarity\"]=Russian_Bots.body.apply(func=lambda x: get_polarity(x))\n",
    "np.mean(Russian_Bots[\"Polarity\"])"
   ]
  },
  {
   "cell_type": "markdown",
   "metadata": {
    "colab_type": "text",
    "id": "qsrPGO4dyFFe"
   },
   "source": [
    "Flesch-Kinkaid"
   ]
  },
  {
   "cell_type": "code",
   "execution_count": null,
   "metadata": {
    "colab": {
     "base_uri": "https://localhost:8080/",
     "height": 34
    },
    "colab_type": "code",
    "id": "WdwYplQSyKYk",
    "outputId": "2c23aba3-f19e-4bf5-a309-07e25a3639c9"
   },
   "outputs": [],
   "source": [
    "#Flesch Kincaid za botove\n",
    "Russian_Bots[\"Flesch_Kincaid\"]=Russian_Bots.body.apply(func=lambda x: textstat.flesch_kincaid_grade(x))\n",
    "np.mean(Russian_Bots[\"Flesch_Kincaid\"])"
   ]
  },
  {
   "cell_type": "code",
   "execution_count": null,
   "metadata": {
    "colab": {
     "base_uri": "https://localhost:8080/",
     "height": 34
    },
    "colab_type": "code",
    "id": "1yGprpGeyrH4",
    "outputId": "89a750f2-0bb2-45b2-cebb-3bec90474a06"
   },
   "outputs": [],
   "source": [
    "#Isto za regularne\n",
    "Regular_Comments_Sample[\"Flesch_Kincaid\"]=Regular_Comments_Sample.body.apply(func=lambda x: textstat.flesch_kincaid_grade(x))\n",
    "np.mean(Regular_Comments_Sample[\"Flesch_Kincaid\"])"
   ]
  },
  {
   "cell_type": "markdown",
   "metadata": {
    "colab_type": "text",
    "id": "PBMPXvj35jEq"
   },
   "source": [
    "# Analiziranje broja kontroverznih komentara"
   ]
  },
  {
   "cell_type": "code",
   "execution_count": null,
   "metadata": {
    "colab": {
     "base_uri": "https://localhost:8080/",
     "height": 68
    },
    "colab_type": "code",
    "id": "BPS2BBnT6sZ9",
    "outputId": "639d7c97-2f0a-400b-e1e1-14d7bd3a78d3"
   },
   "outputs": [],
   "source": [
    "#Broj kontroverznih bot komentara\n",
    "Russian_Bots.controversiality.value_counts()"
   ]
  },
  {
   "cell_type": "code",
   "execution_count": null,
   "metadata": {
    "colab": {
     "base_uri": "https://localhost:8080/",
     "height": 68
    },
    "colab_type": "code",
    "id": "tPhZkj-s61oW",
    "outputId": "5255c227-a5db-411f-8db3-c6068ea5d9e7"
   },
   "outputs": [],
   "source": [
    "#Broj kontroverznih regularnih\n",
    "Regular_Comments_Sample.controversiality.value_counts()"
   ]
  },
  {
   "cell_type": "markdown",
   "metadata": {
    "colab_type": "text",
    "id": "ZWqG_bJ16Ffu"
   },
   "source": [
    "# Leksika"
   ]
  },
  {
   "cell_type": "code",
   "execution_count": null,
   "metadata": {
    "colab": {},
    "colab_type": "code",
    "id": "sA0dgUp16TXt"
   },
   "outputs": [],
   "source": [
    "lexicon = Empath()"
   ]
  },
  {
   "cell_type": "code",
   "execution_count": null,
   "metadata": {
    "colab": {
     "base_uri": "https://localhost:8080/",
     "height": 122
    },
    "colab_type": "code",
    "id": "4slaFIZCG1O_",
    "outputId": "1835e426-c8d4-4181-d2e7-5a6f763851db"
   },
   "outputs": [],
   "source": [
    "#5 leksickih kategorija najcesce vezanih za ruske komentare, izvor ideje je naucni rad : \n",
    "lexicon.create_category(\"russia\",[\"russia\",\"putin\",\"moscow\",\"kremlin\",\"KGB\",\"ukraine\",\"russian\"],model=\"reddit\")\n",
    "lexicon.create_category(\"social_media\",[\"fake_news\",\"twitter_bot\",\"social_media\"],model=\"reddit\")\n",
    "lexicon.create_category(\"trump\",[\"donald_trump\",\"POTUS\",\"michael_flynn\",\"russian_collusion\",\"mueller_investigation\",\"putin\"],model=\"reddit\")\n",
    "lexicon.create_category(\"FBI\",[\"FBI\",\"investigation\",\"robert\",\"comey\",\"flynn\"],model=\"reddit\")\n",
    "lexicon.create_category(\"hilary\",[\"DNC\",\"emails\",\"bernie\"],model=\"reddit\")"
   ]
  },
  {
   "cell_type": "code",
   "execution_count": null,
   "metadata": {
    "colab": {},
    "colab_type": "code",
    "id": "EnpGiNqIH0_8"
   },
   "outputs": [],
   "source": [
    "def Lexical_Score(x):\n",
    "    \"\"\"Dodeljivanje leksickog score-a svakom komentaru u odnosu na kontekst recenice\"\"\"\n",
    "    c=0\n",
    "    analyze=lexicon.analyze(x,categories=['russia,social_media',\"trump\",\"FBI\",\"hilary\"],normalize=True)\n",
    "    attrs=[w for k,w in analyze.items() if w >0]\n",
    "    if len(attrs)>0:\n",
    "        for attr in attrs:\n",
    "            c+=attr\n",
    "    return c"
   ]
  },
  {
   "cell_type": "code",
   "execution_count": null,
   "metadata": {
    "colab": {},
    "colab_type": "code",
    "id": "Bx6mvhKuH_pt"
   },
   "outputs": [],
   "source": [
    "Russian_Bots[\"Lexical_Score\"]=Russian_Bots.body.apply(func=lambda x:Lexical_Score(x))"
   ]
  },
  {
   "cell_type": "code",
   "execution_count": null,
   "metadata": {
    "colab": {},
    "colab_type": "code",
    "id": "0DSgKufUifLd"
   },
   "outputs": [],
   "source": [
    "Regular_Comments_Sample[\"Lexical_Score\"]=Regular_Comments_Sample.body.apply(func=lambda x:Lexical_Score(x))"
   ]
  },
  {
   "cell_type": "markdown",
   "metadata": {
    "colab_type": "text",
    "id": "H-MPz7D-serU"
   },
   "source": [
    "# Dodavanje jos nekih osnovnih feature vezanih za broj reci odnosno recenice"
   ]
  },
  {
   "cell_type": "code",
   "execution_count": null,
   "metadata": {
    "colab": {},
    "colab_type": "code",
    "id": "zeL6KDfrsh4G"
   },
   "outputs": [],
   "source": [
    "#broj reci\n",
    "Russian_Bots['word_count']=Russian_Bots['body'].apply(lambda x: len(x.split()))\n",
    "Regular_Comments_Sample['word_count']=Regular_Comments_Sample['body'].apply(lambda x: len(x.split()))"
   ]
  },
  {
   "cell_type": "code",
   "execution_count": null,
   "metadata": {
    "colab": {},
    "colab_type": "code",
    "id": "k3jPtdDBs1PG"
   },
   "outputs": [],
   "source": [
    "#Znakovi interpunkcije\n",
    "Russian_Bots['punctuation_count']=Russian_Bots['body'].apply(lambda x: len(\"\".join(punc for punc in x if punc in string.punctuation))) \n",
    "Regular_Comments_Sample['punctuation_count']=Regular_Comments_Sample['body'].apply(lambda x: len(\"\".join(punc for punc in x if punc in string.punctuation))) "
   ]
  },
  {
   "cell_type": "code",
   "execution_count": null,
   "metadata": {
    "colab": {},
    "colab_type": "code",
    "id": "IkKMz_Ldt6jV"
   },
   "outputs": [],
   "source": [
    "#Pocetna velika slova\n",
    "Russian_Bots['upper_case_word_count'] = Russian_Bots.body.apply(lambda x: len([word for word in x.split() if word.isupper()]))\n",
    "Regular_Comments_Sample['upper_case_word_count'] = Regular_Comments_Sample.body.apply(lambda x: len([word for word in x.split() if word.isupper()]))"
   ]
  },
  {
   "cell_type": "code",
   "execution_count": null,
   "metadata": {
    "colab": {},
    "colab_type": "code",
    "id": "vFPMUH6MMoq_"
   },
   "outputs": [],
   "source": [
    "#Izdvajanje bitnih kolona\n",
    "Regular_Comments_Sample=Regular_Comments_Sample[[\"Time\",\"Named_entities\",\"Polarity\",\n",
    "                     \"Flesch_Kincaid\",\"Lexical_Score\",\"word_count\",\"punctuation_count\",\n",
    "                     \"upper_case_word_count\"]]\n",
    "Russian_Bots=Russian_Bots[[\"Time\",\"Named_entities\",\"Polarity\",\n",
    "                     \"Flesch_Kincaid\",\"Lexical_Score\",\"word_count\",\"punctuation_count\",\n",
    "                     \"upper_case_word_count\"]]\n"
   ]
  },
  {
   "cell_type": "code",
   "execution_count": null,
   "metadata": {
    "colab": {},
    "colab_type": "code",
    "id": "zJ0h4QydOBKj"
   },
   "outputs": [],
   "source": [
    "#Dodavanje labela\n",
    "Regular_Comments_Sample[\"Label\"]=[\"0\" for x in range(len(Regular_Comments_Sample))]\n",
    "Russian_Bots[\"Label\"]=[\"1\" for x in range(len(Regular_Comments_Sample))]"
   ]
  },
  {
   "cell_type": "code",
   "execution_count": null,
   "metadata": {
    "colab": {},
    "colab_type": "code",
    "id": "g25Jqs5sOe_4"
   },
   "outputs": [],
   "source": [
    "#Spajanja datasetova\n",
    "total=Regular_Comments_Sample.append(Russian_Bots)"
   ]
  },
  {
   "cell_type": "code",
   "execution_count": null,
   "metadata": {
    "colab": {},
    "colab_type": "code",
    "id": "XcoGYpsgOqrj"
   },
   "outputs": [],
   "source": [
    "#Ukupan broj named entities za svaki komentar\n",
    "total[\"Named_entities\"]=total.Named_entities.apply(lambda x:len(x))"
   ]
  },
  {
   "cell_type": "markdown",
   "metadata": {
    "colab_type": "text",
    "id": "z06Aj_uh1w47"
   },
   "source": [
    "#Baseline test"
   ]
  },
  {
   "cell_type": "code",
   "execution_count": null,
   "metadata": {
    "colab": {},
    "colab_type": "code",
    "id": "IHPtsuL7Ogs8"
   },
   "outputs": [],
   "source": [
    "#oznacavanje bot i regularnih komentara\n",
    "Russian_Bots[\"Troll_Status\"]=[\"Russian\" for x in range(len(Russian_Bots))]\n",
    "Regular_Comments_Sample[\"Troll_Status\"]=[\"Non-Russian\" for x in range(len(Russian_Bots))]\n",
    "appended=np.array(Regular_Comments_Sample.append(Russian_Bots)[\"Troll_Status\"])"
   ]
  },
  {
   "cell_type": "code",
   "execution_count": null,
   "metadata": {
    "colab": {},
    "colab_type": "code",
    "id": "HufkYcEVQAe2"
   },
   "outputs": [],
   "source": [
    "#Lista sa random oznakama da li je komentar bot ili regularan\n",
    "actual=list(pd.Series(appended))\n",
    "troll=[\"Russian\" for x in range(len(Russian_Bots))]\n",
    "not_troll=[\"Non-Russian\" for x in range(len(Russian_Bots))]\n",
    "combined=troll+not_troll"
   ]
  },
  {
   "cell_type": "code",
   "execution_count": null,
   "metadata": {
    "colab": {},
    "colab_type": "code",
    "id": "RKPGjPf_Rrzl"
   },
   "outputs": [],
   "source": [
    "\n",
    "shuffle(combined)\n",
    "shuffle(appended)"
   ]
  },
  {
   "cell_type": "code",
   "execution_count": null,
   "metadata": {
    "colab": {
     "base_uri": "https://localhost:8080/",
     "height": 34
    },
    "colab_type": "code",
    "id": "k5mIKF0xQpbG",
    "outputId": "79dba27a-6e5d-4fe9-c99f-f1384bbbc198"
   },
   "outputs": [],
   "source": [
    "#Accuracy, logicno je da je oko 50% posto je random\n",
    "x=0\n",
    "for label in range(len(actual)):\n",
    "    if actual[label]==combined[label]:\n",
    "        x+=1\n",
    "print(x/len(combined)*100)"
   ]
  },
  {
   "cell_type": "code",
   "execution_count": null,
   "metadata": {
    "colab": {},
    "colab_type": "code",
    "id": "JqkeEpOGUiw7"
   },
   "outputs": [],
   "source": [
    "#Random predikcije proveravanje rezultata\n",
    "actual_converted=[]\n",
    "test=[]\n",
    "for label in actual:\n",
    "  if label==\"Non-Russian\":\n",
    "    actual_converted.append(0)\n",
    "  else:\n",
    "    actual_converted.append(1)\n",
    "for label in combined:\n",
    "  if label==\"Non-Russian\":\n",
    "    test.append(0)\n",
    "\n",
    "  else:\n",
    "    test.append(1)"
   ]
  },
  {
   "cell_type": "code",
   "execution_count": null,
   "metadata": {
    "colab": {
     "base_uri": "https://localhost:8080/",
     "height": 34
    },
    "colab_type": "code",
    "id": "WD-UsEdCVepS",
    "outputId": "0f4c7a37-ad32-4532-9b52-6d72e5d1e946"
   },
   "outputs": [],
   "source": [
    "# Recall\n",
    "metrics.recall_score(actual_converted,test)"
   ]
  },
  {
   "cell_type": "code",
   "execution_count": null,
   "metadata": {
    "colab": {
     "base_uri": "https://localhost:8080/",
     "height": 34
    },
    "colab_type": "code",
    "id": "N8rWJYiNWyLJ",
    "outputId": "3bd05e55-74f6-4c60-d8c9-07640f895453"
   },
   "outputs": [],
   "source": [
    "# AUC\n",
    "metrics.roc_auc_score(actual_converted,test)"
   ]
  },
  {
   "cell_type": "markdown",
   "metadata": {
    "colab_type": "text",
    "id": "zmQDC24-YcgC"
   },
   "source": [
    "# Random Forest"
   ]
  },
  {
   "cell_type": "code",
   "execution_count": null,
   "metadata": {
    "colab": {},
    "colab_type": "code",
    "id": "HQ1UnbolYkad"
   },
   "outputs": [],
   "source": [
    "#novi index\n",
    "total.index=list(range(len(total)))\n"
   ]
  },
  {
   "cell_type": "code",
   "execution_count": null,
   "metadata": {
    "colab": {},
    "colab_type": "code",
    "id": "loJb5gHibb78"
   },
   "outputs": [],
   "source": [
    "#Random mesanje redova\n",
    "shuffled_rows=total.reindex(np.random.permutation(total.index))"
   ]
  },
  {
   "cell_type": "code",
   "execution_count": null,
   "metadata": {
    "colab": {},
    "colab_type": "code",
    "id": "HKLu_cPyeBB7"
   },
   "outputs": [],
   "source": [
    "#Izbacivanje N/A redova\n",
    "shuffled_rows.dropna(inplace=True)"
   ]
  },
  {
   "cell_type": "code",
   "execution_count": null,
   "metadata": {
    "colab": {},
    "colab_type": "code",
    "id": "ivOfBy6KcgqF"
   },
   "outputs": [],
   "source": [
    "\n",
    "X=shuffled_rows.iloc[:,:-1]#nezavisne promenljive\n",
    "y=shuffled_rows.iloc[:,-1]#vrednosti koje se prediktuju"
   ]
  },
  {
   "cell_type": "code",
   "execution_count": null,
   "metadata": {
    "colab": {
     "base_uri": "https://localhost:8080/",
     "height": 517
    },
    "colab_type": "code",
    "id": "8p9REzXcE7wj",
    "outputId": "075f8e2f-0ac6-47b4-8488-70c0d0800bcd"
   },
   "outputs": [],
   "source": [
    "f, ax = plt.subplots(figsize=(10, 6))\n",
    "corr = X.corr()\n",
    "hm = sns.heatmap(round(corr,2), annot=True, ax=ax, cmap=\"coolwarm\",fmt='.2f',\n",
    "                 linewidths=.05)\n",
    "f.subplots_adjust(top=0.93)\n",
    "t= f.suptitle('Korelacija izmedju parametara modela', fontsize=14)"
   ]
  },
  {
   "cell_type": "code",
   "execution_count": null,
   "metadata": {
    "colab": {},
    "colab_type": "code",
    "id": "LzHUBYpVcmAR"
   },
   "outputs": [],
   "source": [
    "#Train/Test\n",
    "X_train, X_test, y_train, y_test = train_test_split(X, y, test_size=0.2, random_state=0)  "
   ]
  },
  {
   "cell_type": "code",
   "execution_count": null,
   "metadata": {
    "colab": {},
    "colab_type": "code",
    "id": "fB8ZrTsactJC"
   },
   "outputs": [],
   "source": [
    "#Standardizovanje podataka\n",
    "sc = StandardScaler()  \n",
    "X_train = sc.fit_transform(X_train)  \n",
    "X_test = sc.transform(X_test)  "
   ]
  },
  {
   "cell_type": "code",
   "execution_count": null,
   "metadata": {
    "colab": {},
    "colab_type": "code",
    "id": "zCnXlOGreWjL"
   },
   "outputs": [],
   "source": [
    "#Random Forest algoritam za klasifikovanje\n",
    "Classifier = RandomForestClassifier(n_estimators=20, random_state=0)  \n",
    "Classifier.fit(X_train, y_train)  \n",
    "y_pred = Classifier.predict(X_test) "
   ]
  },
  {
   "cell_type": "code",
   "execution_count": null,
   "metadata": {},
   "outputs": [],
   "source": [
    "y_pred=y_pred.astype(int)\n",
    "y_test_int=y_test.astype(int)"
   ]
  },
  {
   "cell_type": "code",
   "execution_count": null,
   "metadata": {},
   "outputs": [],
   "source": [
    "# Recall\n",
    "metrics.recall_score(y_test_int,y_pred)"
   ]
  },
  {
   "cell_type": "code",
   "execution_count": null,
   "metadata": {},
   "outputs": [],
   "source": [
    "#auc\n",
    "metrics.roc_auc_score(y_test_int,y_pred)"
   ]
  },
  {
   "cell_type": "code",
   "execution_count": null,
   "metadata": {
    "colab": {},
    "colab_type": "code",
    "id": "ombWMGpm1ykG"
   },
   "outputs": [],
   "source": [
    "visualizer = ClassificationReport(RandomForestClassifier() ,cmap='BuPu',title=\"Normal Random Forest Parameters\",classes=[\"Non-Troll\",\"Troll\"], support=True)\n",
    "visualizer.fit(X_train, y_train)  # Fitovanje vizualizatora i modela\n",
    "visualizer.score(X_test, y_test)  # Evaluacija modela na test podacima\n",
    "g = visualizer.poof()             # vizualizovanje podataka"
   ]
  }
 ],
 "metadata": {
  "colab": {
   "name": "Final_Project.ipynb",
   "provenance": [],
   "version": "0.3.2"
  },
  "kernelspec": {
   "display_name": "Python 3",
   "language": "python",
   "name": "python3"
  },
  "language_info": {
   "codemirror_mode": {
    "name": "ipython",
    "version": 3
   },
   "file_extension": ".py",
   "mimetype": "text/x-python",
   "name": "python",
   "nbconvert_exporter": "python",
   "pygments_lexer": "ipython3",
   "version": "3.6.5"
  }
 },
 "nbformat": 4,
 "nbformat_minor": 2
}
