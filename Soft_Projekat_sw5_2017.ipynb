{
 "cells": [
  {
   "cell_type": "code",
   "execution_count": 1,
   "metadata": {
    "ExecuteTime": {
     "end_time": "2018-12-13T21:44:28.055955Z",
     "start_time": "2018-12-13T21:44:17.468496Z"
    },
    "colab": {
     "base_uri": "https://localhost:8080/",
     "height": 814
    },
    "colab_type": "code",
    "id": "UScvVEa18PWS",
    "outputId": "fafba16e-c0ef-4160-81ae-2e6a55ed899c"
   },
   "outputs": [
    {
     "name": "stdout",
     "output_type": "stream",
     "text": [
      "Requirement already satisfied: xlrd in d:\\ftn\\4 godina\\7 semestar\\soft kompjuting\\vezbe\\sc-2020-siit-main\\venv\\lib\\site-packages (1.2.0)\n",
      "Requirement already satisfied: textblob in d:\\ftn\\4 godina\\7 semestar\\soft kompjuting\\vezbe\\sc-2020-siit-main\\venv\\lib\\site-packages (0.15.3)\n",
      "Requirement already satisfied: nltk>=3.1 in d:\\ftn\\4 godina\\7 semestar\\soft kompjuting\\vezbe\\sc-2020-siit-main\\venv\\lib\\site-packages (from textblob) (3.6.2)\n",
      "Requirement already satisfied: joblib in d:\\ftn\\4 godina\\7 semestar\\soft kompjuting\\vezbe\\sc-2020-siit-main\\venv\\lib\\site-packages (from nltk>=3.1->textblob) (0.14.0)\n",
      "Requirement already satisfied: tqdm in d:\\ftn\\4 godina\\7 semestar\\soft kompjuting\\vezbe\\sc-2020-siit-main\\venv\\lib\\site-packages (from nltk>=3.1->textblob) (4.61.1)\n",
      "Requirement already satisfied: regex in d:\\ftn\\4 godina\\7 semestar\\soft kompjuting\\vezbe\\sc-2020-siit-main\\venv\\lib\\site-packages (from nltk>=3.1->textblob) (2021.4.4)\n",
      "Requirement already satisfied: click in d:\\ftn\\4 godina\\7 semestar\\soft kompjuting\\vezbe\\sc-2020-siit-main\\venv\\lib\\site-packages (from nltk>=3.1->textblob) (7.1.2)\n",
      "Requirement already satisfied: textstat in d:\\ftn\\4 godina\\7 semestar\\soft kompjuting\\vezbe\\sc-2020-siit-main\\venv\\lib\\site-packages (0.7.1)\n",
      "Requirement already satisfied: pyphen in d:\\ftn\\4 godina\\7 semestar\\soft kompjuting\\vezbe\\sc-2020-siit-main\\venv\\lib\\site-packages (from textstat) (0.10.0)\n",
      "Collecting en-core-web-sm==3.0.0\n",
      "  Downloading https://github.com/explosion/spacy-models/releases/download/en_core_web_sm-3.0.0/en_core_web_sm-3.0.0-py3-none-any.whl (13.7 MB)\n",
      "Requirement already satisfied: spacy<3.1.0,>=3.0.0 in d:\\ftn\\4 godina\\7 semestar\\soft kompjuting\\vezbe\\sc-2020-siit-main\\venv\\lib\\site-packages (from en-core-web-sm==3.0.0) (3.0.6)\n",
      "Requirement already satisfied: typer<0.4.0,>=0.3.0 in d:\\ftn\\4 godina\\7 semestar\\soft kompjuting\\vezbe\\sc-2020-siit-main\\venv\\lib\\site-packages (from spacy<3.1.0,>=3.0.0->en-core-web-sm==3.0.0) (0.3.2)\n",
      "Requirement already satisfied: catalogue<2.1.0,>=2.0.3 in d:\\ftn\\4 godina\\7 semestar\\soft kompjuting\\vezbe\\sc-2020-siit-main\\venv\\lib\\site-packages (from spacy<3.1.0,>=3.0.0->en-core-web-sm==3.0.0) (2.0.4)\n",
      "Requirement already satisfied: cymem<2.1.0,>=2.0.2 in d:\\ftn\\4 godina\\7 semestar\\soft kompjuting\\vezbe\\sc-2020-siit-main\\venv\\lib\\site-packages (from spacy<3.1.0,>=3.0.0->en-core-web-sm==3.0.0) (2.0.5)\n",
      "Requirement already satisfied: blis<0.8.0,>=0.4.0 in d:\\ftn\\4 godina\\7 semestar\\soft kompjuting\\vezbe\\sc-2020-siit-main\\venv\\lib\\site-packages (from spacy<3.1.0,>=3.0.0->en-core-web-sm==3.0.0) (0.7.4)\n",
      "Requirement already satisfied: pathy>=0.3.5 in d:\\ftn\\4 godina\\7 semestar\\soft kompjuting\\vezbe\\sc-2020-siit-main\\venv\\lib\\site-packages (from spacy<3.1.0,>=3.0.0->en-core-web-sm==3.0.0) (0.5.2)\n",
      "Requirement already satisfied: tqdm<5.0.0,>=4.38.0 in d:\\ftn\\4 godina\\7 semestar\\soft kompjuting\\vezbe\\sc-2020-siit-main\\venv\\lib\\site-packages (from spacy<3.1.0,>=3.0.0->en-core-web-sm==3.0.0) (4.61.1)\n",
      "Requirement already satisfied: numpy>=1.15.0 in d:\\ftn\\4 godina\\7 semestar\\soft kompjuting\\vezbe\\sc-2020-siit-main\\venv\\lib\\site-packages (from spacy<3.1.0,>=3.0.0->en-core-web-sm==3.0.0) (1.17.3)\n",
      "Requirement already satisfied: thinc<8.1.0,>=8.0.3 in d:\\ftn\\4 godina\\7 semestar\\soft kompjuting\\vezbe\\sc-2020-siit-main\\venv\\lib\\site-packages (from spacy<3.1.0,>=3.0.0->en-core-web-sm==3.0.0) (8.0.4)\n",
      "Requirement already satisfied: srsly<3.0.0,>=2.4.1 in d:\\ftn\\4 godina\\7 semestar\\soft kompjuting\\vezbe\\sc-2020-siit-main\\venv\\lib\\site-packages (from spacy<3.1.0,>=3.0.0->en-core-web-sm==3.0.0) (2.4.1)\n",
      "Requirement already satisfied: requests<3.0.0,>=2.13.0 in d:\\ftn\\4 godina\\7 semestar\\soft kompjuting\\vezbe\\sc-2020-siit-main\\venv\\lib\\site-packages (from spacy<3.1.0,>=3.0.0->en-core-web-sm==3.0.0) (2.25.1)\n",
      "Requirement already satisfied: packaging>=20.0 in d:\\ftn\\4 godina\\7 semestar\\soft kompjuting\\vezbe\\sc-2020-siit-main\\venv\\lib\\site-packages (from spacy<3.1.0,>=3.0.0->en-core-web-sm==3.0.0) (20.9)\n",
      "Requirement already satisfied: jinja2 in d:\\ftn\\4 godina\\7 semestar\\soft kompjuting\\vezbe\\sc-2020-siit-main\\venv\\lib\\site-packages (from spacy<3.1.0,>=3.0.0->en-core-web-sm==3.0.0) (2.10.3)\n",
      "Requirement already satisfied: spacy-legacy<3.1.0,>=3.0.4 in d:\\ftn\\4 godina\\7 semestar\\soft kompjuting\\vezbe\\sc-2020-siit-main\\venv\\lib\\site-packages (from spacy<3.1.0,>=3.0.0->en-core-web-sm==3.0.0) (3.0.5)\n",
      "Requirement already satisfied: setuptools in d:\\ftn\\4 godina\\7 semestar\\soft kompjuting\\vezbe\\sc-2020-siit-main\\venv\\lib\\site-packages (from spacy<3.1.0,>=3.0.0->en-core-web-sm==3.0.0) (57.0.0)\n",
      "Requirement already satisfied: typing-extensions<4.0.0.0,>=3.7.4 in d:\\ftn\\4 godina\\7 semestar\\soft kompjuting\\vezbe\\sc-2020-siit-main\\venv\\lib\\site-packages (from spacy<3.1.0,>=3.0.0->en-core-web-sm==3.0.0) (3.10.0.0)\n",
      "Requirement already satisfied: preshed<3.1.0,>=3.0.2 in d:\\ftn\\4 godina\\7 semestar\\soft kompjuting\\vezbe\\sc-2020-siit-main\\venv\\lib\\site-packages (from spacy<3.1.0,>=3.0.0->en-core-web-sm==3.0.0) (3.0.5)\n",
      "Requirement already satisfied: pydantic<1.8.0,>=1.7.1 in d:\\ftn\\4 godina\\7 semestar\\soft kompjuting\\vezbe\\sc-2020-siit-main\\venv\\lib\\site-packages (from spacy<3.1.0,>=3.0.0->en-core-web-sm==3.0.0) (1.7.4)\n",
      "Requirement already satisfied: murmurhash<1.1.0,>=0.28.0 in d:\\ftn\\4 godina\\7 semestar\\soft kompjuting\\vezbe\\sc-2020-siit-main\\venv\\lib\\site-packages (from spacy<3.1.0,>=3.0.0->en-core-web-sm==3.0.0) (1.0.5)\n",
      "Requirement already satisfied: wasabi<1.1.0,>=0.8.1 in d:\\ftn\\4 godina\\7 semestar\\soft kompjuting\\vezbe\\sc-2020-siit-main\\venv\\lib\\site-packages (from spacy<3.1.0,>=3.0.0->en-core-web-sm==3.0.0) (0.8.2)\n",
      "Requirement already satisfied: zipp>=0.5 in d:\\ftn\\4 godina\\7 semestar\\soft kompjuting\\vezbe\\sc-2020-siit-main\\venv\\lib\\site-packages (from catalogue<2.1.0,>=2.0.3->spacy<3.1.0,>=3.0.0->en-core-web-sm==3.0.0) (0.6.0)\n",
      "Requirement already satisfied: pyparsing>=2.0.2 in d:\\ftn\\4 godina\\7 semestar\\soft kompjuting\\vezbe\\sc-2020-siit-main\\venv\\lib\\site-packages (from packaging>=20.0->spacy<3.1.0,>=3.0.0->en-core-web-sm==3.0.0) (2.4.2)\n",
      "Requirement already satisfied: dataclasses<1.0,>=0.6 in d:\\ftn\\4 godina\\7 semestar\\soft kompjuting\\vezbe\\sc-2020-siit-main\\venv\\lib\\site-packages (from pathy>=0.3.5->spacy<3.1.0,>=3.0.0->en-core-web-sm==3.0.0) (0.8)\n",
      "Requirement already satisfied: smart-open<4.0.0,>=2.2.0 in d:\\ftn\\4 godina\\7 semestar\\soft kompjuting\\vezbe\\sc-2020-siit-main\\venv\\lib\\site-packages (from pathy>=0.3.5->spacy<3.1.0,>=3.0.0->en-core-web-sm==3.0.0) (3.0.0)\n",
      "Requirement already satisfied: chardet<5,>=3.0.2 in d:\\ftn\\4 godina\\7 semestar\\soft kompjuting\\vezbe\\sc-2020-siit-main\\venv\\lib\\site-packages (from requests<3.0.0,>=2.13.0->spacy<3.1.0,>=3.0.0->en-core-web-sm==3.0.0) (4.0.0)\n",
      "Requirement already satisfied: certifi>=2017.4.17 in d:\\ftn\\4 godina\\7 semestar\\soft kompjuting\\vezbe\\sc-2020-siit-main\\venv\\lib\\site-packages (from requests<3.0.0,>=2.13.0->spacy<3.1.0,>=3.0.0->en-core-web-sm==3.0.0) (2021.5.30)\n",
      "Requirement already satisfied: urllib3<1.27,>=1.21.1 in d:\\ftn\\4 godina\\7 semestar\\soft kompjuting\\vezbe\\sc-2020-siit-main\\venv\\lib\\site-packages (from requests<3.0.0,>=2.13.0->spacy<3.1.0,>=3.0.0->en-core-web-sm==3.0.0) (1.26.5)\n",
      "Requirement already satisfied: idna<3,>=2.5 in d:\\ftn\\4 godina\\7 semestar\\soft kompjuting\\vezbe\\sc-2020-siit-main\\venv\\lib\\site-packages (from requests<3.0.0,>=2.13.0->spacy<3.1.0,>=3.0.0->en-core-web-sm==3.0.0) (2.10)\n",
      "Requirement already satisfied: contextvars<3,>=2.4 in d:\\ftn\\4 godina\\7 semestar\\soft kompjuting\\vezbe\\sc-2020-siit-main\\venv\\lib\\site-packages (from thinc<8.1.0,>=8.0.3->spacy<3.1.0,>=3.0.0->en-core-web-sm==3.0.0) (2.4)\n",
      "Requirement already satisfied: immutables>=0.9 in d:\\ftn\\4 godina\\7 semestar\\soft kompjuting\\vezbe\\sc-2020-siit-main\\venv\\lib\\site-packages (from contextvars<3,>=2.4->thinc<8.1.0,>=8.0.3->spacy<3.1.0,>=3.0.0->en-core-web-sm==3.0.0) (0.15)\n",
      "Requirement already satisfied: click<7.2.0,>=7.1.1 in d:\\ftn\\4 godina\\7 semestar\\soft kompjuting\\vezbe\\sc-2020-siit-main\\venv\\lib\\site-packages (from typer<0.4.0,>=0.3.0->spacy<3.1.0,>=3.0.0->en-core-web-sm==3.0.0) (7.1.2)\n",
      "Requirement already satisfied: more-itertools in d:\\ftn\\4 godina\\7 semestar\\soft kompjuting\\vezbe\\sc-2020-siit-main\\venv\\lib\\site-packages (from zipp>=0.5->catalogue<2.1.0,>=2.0.3->spacy<3.1.0,>=3.0.0->en-core-web-sm==3.0.0) (7.2.0)\n",
      "Requirement already satisfied: MarkupSafe>=0.23 in d:\\ftn\\4 godina\\7 semestar\\soft kompjuting\\vezbe\\sc-2020-siit-main\\venv\\lib\\site-packages (from jinja2->spacy<3.1.0,>=3.0.0->en-core-web-sm==3.0.0) (1.1.1)\n",
      "[!] As of spaCy v3.0, shortcuts like 'en' are deprecated. Please use the full\n",
      "pipeline package name 'en_core_web_sm' instead.\n",
      "[+] Download and installation successful\n",
      "You can now load the package via spacy.load('en_core_web_sm')\n"
     ]
    },
    {
     "name": "stdout",
     "output_type": "stream",
     "text": [
      "Requirement already satisfied: yellowbrick in d:\\ftn\\4 godina\\7 semestar\\soft kompjuting\\vezbe\\sc-2020-siit-main\\venv\\lib\\site-packages (1.3.post1)\n",
      "Requirement already satisfied: scikit-learn>=0.20 in d:\\ftn\\4 godina\\7 semestar\\soft kompjuting\\vezbe\\sc-2020-siit-main\\venv\\lib\\site-packages (from yellowbrick) (0.21.3)\n",
      "Requirement already satisfied: matplotlib!=3.0.0,>=2.0.2 in d:\\ftn\\4 godina\\7 semestar\\soft kompjuting\\vezbe\\sc-2020-siit-main\\venv\\lib\\site-packages (from yellowbrick) (3.1.1)\n",
      "Requirement already satisfied: numpy<1.20,>=1.16.0 in d:\\ftn\\4 godina\\7 semestar\\soft kompjuting\\vezbe\\sc-2020-siit-main\\venv\\lib\\site-packages (from yellowbrick) (1.17.3)\n",
      "Requirement already satisfied: cycler>=0.10.0 in d:\\ftn\\4 godina\\7 semestar\\soft kompjuting\\vezbe\\sc-2020-siit-main\\venv\\lib\\site-packages (from yellowbrick) (0.10.0)\n",
      "Requirement already satisfied: scipy>=1.0.0 in d:\\ftn\\4 godina\\7 semestar\\soft kompjuting\\vezbe\\sc-2020-siit-main\\venv\\lib\\site-packages (from yellowbrick) (1.3.1)\n",
      "Requirement already satisfied: six in d:\\ftn\\4 godina\\7 semestar\\soft kompjuting\\vezbe\\sc-2020-siit-main\\venv\\lib\\site-packages (from cycler>=0.10.0->yellowbrick) (1.12.0)\n",
      "Requirement already satisfied: kiwisolver>=1.0.1 in d:\\ftn\\4 godina\\7 semestar\\soft kompjuting\\vezbe\\sc-2020-siit-main\\venv\\lib\\site-packages (from matplotlib!=3.0.0,>=2.0.2->yellowbrick) (1.1.0)\n",
      "Requirement already satisfied: pyparsing!=2.0.4,!=2.1.2,!=2.1.6,>=2.0.1 in d:\\ftn\\4 godina\\7 semestar\\soft kompjuting\\vezbe\\sc-2020-siit-main\\venv\\lib\\site-packages (from matplotlib!=3.0.0,>=2.0.2->yellowbrick) (2.4.2)\n",
      "Requirement already satisfied: python-dateutil>=2.1 in d:\\ftn\\4 godina\\7 semestar\\soft kompjuting\\vezbe\\sc-2020-siit-main\\venv\\lib\\site-packages (from matplotlib!=3.0.0,>=2.0.2->yellowbrick) (2.8.0)\n",
      "Requirement already satisfied: setuptools in d:\\ftn\\4 godina\\7 semestar\\soft kompjuting\\vezbe\\sc-2020-siit-main\\venv\\lib\\site-packages (from kiwisolver>=1.0.1->matplotlib!=3.0.0,>=2.0.2->yellowbrick) (57.0.0)\n",
      "Requirement already satisfied: joblib>=0.11 in d:\\ftn\\4 godina\\7 semestar\\soft kompjuting\\vezbe\\sc-2020-siit-main\\venv\\lib\\site-packages (from scikit-learn>=0.20->yellowbrick) (0.14.0)\n",
      "Requirement already satisfied: empath in d:\\ftn\\4 godina\\7 semestar\\soft kompjuting\\vezbe\\sc-2020-siit-main\\venv\\lib\\site-packages (0.89)\n",
      "Requirement already satisfied: requests in d:\\ftn\\4 godina\\7 semestar\\soft kompjuting\\vezbe\\sc-2020-siit-main\\venv\\lib\\site-packages (from empath) (2.25.1)\n",
      "Requirement already satisfied: urllib3<1.27,>=1.21.1 in d:\\ftn\\4 godina\\7 semestar\\soft kompjuting\\vezbe\\sc-2020-siit-main\\venv\\lib\\site-packages (from requests->empath) (1.26.5)\n",
      "Requirement already satisfied: certifi>=2017.4.17 in d:\\ftn\\4 godina\\7 semestar\\soft kompjuting\\vezbe\\sc-2020-siit-main\\venv\\lib\\site-packages (from requests->empath) (2021.5.30)\n",
      "Requirement already satisfied: idna<3,>=2.5 in d:\\ftn\\4 godina\\7 semestar\\soft kompjuting\\vezbe\\sc-2020-siit-main\\venv\\lib\\site-packages (from requests->empath) (2.10)\n",
      "Requirement already satisfied: chardet<5,>=3.0.2 in d:\\ftn\\4 godina\\7 semestar\\soft kompjuting\\vezbe\\sc-2020-siit-main\\venv\\lib\\site-packages (from requests->empath) (4.0.0)\n"
     ]
    }
   ],
   "source": [
    "\n",
    "from collections import Counter\n",
    "import re\n",
    "import string\n",
    "from random import shuffle\n",
    "\n",
    "from subprocess import call\n",
    "from IPython.display import Image\n",
    "\n",
    "!pip install xlrd\n",
    "import numpy as np\n",
    "import pandas as pd\n",
    "\n",
    "import seaborn as sns\n",
    "import matplotlib.pyplot as plt\n",
    "\n",
    "import spacy\n",
    "from scipy import stats\n",
    "\n",
    "!pip install textblob\n",
    "from textblob import TextBlob\n",
    "\n",
    "!pip install textstat\n",
    "import textstat\n",
    "\n",
    "import matplotlib.pyplot as plt\n",
    "import seaborn as sns\n",
    "plt.style.use(\"ggplot\")\n",
    "\n",
    "from scipy import stats\n",
    "\n",
    "!python -m spacy download en\n",
    "import spacy\n",
    "\n",
    "from sklearn import metrics\n",
    "from sklearn.model_selection import train_test_split\n",
    "from sklearn.preprocessing import StandardScaler\n",
    "\n",
    "from sklearn.linear_model import LogisticRegression\n",
    "from sklearn.ensemble import RandomForestClassifier\n",
    "\n",
    "from sklearn import metrics\n",
    "from sklearn.metrics import classification_report, confusion_matrix, accuracy_score\n",
    "!pip install yellowbrick\n",
    "from yellowbrick.classifier import ClassificationReport\n",
    "\n",
    "!pip install empath\n",
    "from empath import Empath\n",
    "\n",
    "from sklearn.model_selection import RandomizedSearchCV\n",
    "from sklearn.tree import export_graphviz"
   ]
  },
  {
   "cell_type": "code",
   "execution_count": 2,
   "metadata": {
    "ExecuteTime": {
     "end_time": "2018-12-13T21:39:35.296627Z",
     "start_time": "2018-12-13T21:39:34.847753Z"
    },
    "colab": {
     "base_uri": "https://localhost:8080/",
     "height": 105
    },
    "colab_type": "code",
    "id": "sv4kEken84Yx",
    "outputId": "fca631db-4f60-4760-b983-922d84724540"
   },
   "outputs": [
    {
     "name": "stderr",
     "output_type": "stream",
     "text": [
      "b'Skipping line 4581: expected 20 fields, saw 22\\nSkipping line 9684: expected 20 fields, saw 21\\nSkipping line 11215: expected 20 fields, saw 27\\n'\n",
      "b'Skipping line 33342: expected 20 fields, saw 21\\nSkipping line 38620: expected 20 fields, saw 22\\nSkipping line 40411: expected 20 fields, saw 21\\n'\n",
      "d:\\ftn\\4 godina\\7 semestar\\soft kompjuting\\vezbe\\sc-2020-siit-main\\venv\\lib\\site-packages\\IPython\\core\\interactiveshell.py:3058: DtypeWarning: Columns (1,2,3,6) have mixed types. Specify dtype option on import or set low_memory=False.\n",
      "  interactivity=interactivity, compiler=compiler, result=result)\n"
     ]
    }
   ],
   "source": [
    "Regular_Comments=pd.read_csv(\"regular_comments.csv\", error_bad_lines=False)"
   ]
  },
  {
   "cell_type": "code",
   "execution_count": 3,
   "metadata": {
    "ExecuteTime": {
     "end_time": "2018-12-13T21:39:36.539263Z",
     "start_time": "2018-12-13T21:39:36.418730Z"
    },
    "colab": {},
    "colab_type": "code",
    "id": "dGUjbICN9G4n"
   },
   "outputs": [],
   "source": [
    "Russians_Bots=pd.read_csv(\"russian_comments.csv\")"
   ]
  },
  {
   "cell_type": "code",
   "execution_count": 4,
   "metadata": {
    "ExecuteTime": {
     "end_time": "2018-12-13T21:39:37.838312Z",
     "start_time": "2018-12-13T21:39:37.826216Z"
    },
    "colab": {},
    "colab_type": "code",
    "id": "EinbpiPqdJCQ"
   },
   "outputs": [],
   "source": [
    "Regular_Comments=Regular_Comments[[\"body\",'controversiality','created_utc',\"subreddit\",\"score\"]]"
   ]
  },
  {
   "cell_type": "code",
   "execution_count": 5,
   "metadata": {
    "ExecuteTime": {
     "end_time": "2018-12-13T21:39:38.406067Z",
     "start_time": "2018-12-13T21:39:38.397202Z"
    },
    "colab": {},
    "colab_type": "code",
    "id": "xp0ETadpcamL"
   },
   "outputs": [],
   "source": [
    "Russian_Bots=Russians_Bots[[\"body\",\"controversiality\",\"created_utc\",\"subreddit.display_name_prefixed\",\"score\"]]"
   ]
  },
  {
   "cell_type": "code",
   "execution_count": 6,
   "metadata": {
    "ExecuteTime": {
     "end_time": "2018-12-13T21:39:38.880633Z",
     "start_time": "2018-12-13T21:39:38.843209Z"
    },
    "colab": {
     "base_uri": "https://localhost:8080/",
     "height": 204
    },
    "colab_type": "code",
    "id": "WsFlaS9MeITF",
    "outputId": "61f3e86f-17df-47bc-ee94-e663bed9ef0b"
   },
   "outputs": [
    {
     "data": {
      "text/html": [
       "<div>\n",
       "<style scoped>\n",
       "    .dataframe tbody tr th:only-of-type {\n",
       "        vertical-align: middle;\n",
       "    }\n",
       "\n",
       "    .dataframe tbody tr th {\n",
       "        vertical-align: top;\n",
       "    }\n",
       "\n",
       "    .dataframe thead th {\n",
       "        text-align: right;\n",
       "    }\n",
       "</style>\n",
       "<table border=\"1\" class=\"dataframe\">\n",
       "  <thead>\n",
       "    <tr style=\"text-align: right;\">\n",
       "      <th></th>\n",
       "      <th>body</th>\n",
       "      <th>controversiality</th>\n",
       "      <th>created_utc</th>\n",
       "      <th>subreddit</th>\n",
       "      <th>score</th>\n",
       "    </tr>\n",
       "  </thead>\n",
       "  <tbody>\n",
       "    <tr>\n",
       "      <th>0</th>\n",
       "      <td>I guess there was some awkwardness, but it was...</td>\n",
       "      <td>0.0</td>\n",
       "      <td>1.423069e+09</td>\n",
       "      <td>AskReddit</td>\n",
       "      <td>1.0</td>\n",
       "    </tr>\n",
       "    <tr>\n",
       "      <th>1</th>\n",
       "      <td>Food schmooze isn't bad, I've gotten a few int...</td>\n",
       "      <td>0.0</td>\n",
       "      <td>1.424737e+09</td>\n",
       "      <td>Connecticut</td>\n",
       "      <td>1.0</td>\n",
       "    </tr>\n",
       "    <tr>\n",
       "      <th>2</th>\n",
       "      <td>Is there a fatigue animation before sleep that...</td>\n",
       "      <td>0.0</td>\n",
       "      <td>1.423940e+09</td>\n",
       "      <td>MonsterHunter</td>\n",
       "      <td>1.0</td>\n",
       "    </tr>\n",
       "    <tr>\n",
       "      <th>3</th>\n",
       "      <td>I recently saw some Shohei Inamura films, spec...</td>\n",
       "      <td>0.0</td>\n",
       "      <td>1.425002e+09</td>\n",
       "      <td>movies</td>\n",
       "      <td>2.0</td>\n",
       "    </tr>\n",
       "    <tr>\n",
       "      <th>4</th>\n",
       "      <td>How long did that take?</td>\n",
       "      <td>0.0</td>\n",
       "      <td>1.424486e+09</td>\n",
       "      <td>iastate</td>\n",
       "      <td>2.0</td>\n",
       "    </tr>\n",
       "  </tbody>\n",
       "</table>\n",
       "</div>"
      ],
      "text/plain": [
       "                                                body  controversiality  \\\n",
       "0  I guess there was some awkwardness, but it was...               0.0   \n",
       "1  Food schmooze isn't bad, I've gotten a few int...               0.0   \n",
       "2  Is there a fatigue animation before sleep that...               0.0   \n",
       "3  I recently saw some Shohei Inamura films, spec...               0.0   \n",
       "4                            How long did that take?               0.0   \n",
       "\n",
       "    created_utc      subreddit  score  \n",
       "0  1.423069e+09      AskReddit    1.0  \n",
       "1  1.424737e+09    Connecticut    1.0  \n",
       "2  1.423940e+09  MonsterHunter    1.0  \n",
       "3  1.425002e+09         movies    2.0  \n",
       "4  1.424486e+09        iastate    2.0  "
      ]
     },
     "execution_count": 6,
     "metadata": {},
     "output_type": "execute_result"
    }
   ],
   "source": [
    "Regular_Comments.head()"
   ]
  },
  {
   "cell_type": "markdown",
   "metadata": {
    "colab_type": "text",
    "id": "Xdzmg1q7e2dZ"
   },
   "source": [
    "# Analiziranje subreddita"
   ]
  },
  {
   "cell_type": "code",
   "execution_count": 7,
   "metadata": {
    "ExecuteTime": {
     "end_time": "2018-12-13T21:39:39.764334Z",
     "start_time": "2018-12-13T21:39:39.725157Z"
    },
    "colab": {
     "base_uri": "https://localhost:8080/",
     "height": 297
    },
    "colab_type": "code",
    "id": "6jfuCMiqltlU",
    "outputId": "f4439751-d6ff-4a22-e2e6-d95da630ebff",
    "scrolled": false
   },
   "outputs": [
    {
     "data": {
      "text/html": [
       "<div>\n",
       "<style scoped>\n",
       "    .dataframe tbody tr th:only-of-type {\n",
       "        vertical-align: middle;\n",
       "    }\n",
       "\n",
       "    .dataframe tbody tr th {\n",
       "        vertical-align: top;\n",
       "    }\n",
       "\n",
       "    .dataframe thead th {\n",
       "        text-align: right;\n",
       "    }\n",
       "</style>\n",
       "<table border=\"1\" class=\"dataframe\">\n",
       "  <thead>\n",
       "    <tr style=\"text-align: right;\">\n",
       "      <th></th>\n",
       "      <th>controversiality</th>\n",
       "      <th>created_utc</th>\n",
       "      <th>score</th>\n",
       "    </tr>\n",
       "  </thead>\n",
       "  <tbody>\n",
       "    <tr>\n",
       "      <th>count</th>\n",
       "      <td>45129.000000</td>\n",
       "      <td>4.512900e+04</td>\n",
       "      <td>45129.000000</td>\n",
       "    </tr>\n",
       "    <tr>\n",
       "      <th>mean</th>\n",
       "      <td>0.020585</td>\n",
       "      <td>1.459646e+09</td>\n",
       "      <td>5.960890</td>\n",
       "    </tr>\n",
       "    <tr>\n",
       "      <th>std</th>\n",
       "      <td>0.141993</td>\n",
       "      <td>2.265093e+07</td>\n",
       "      <td>49.337047</td>\n",
       "    </tr>\n",
       "    <tr>\n",
       "      <th>min</th>\n",
       "      <td>0.000000</td>\n",
       "      <td>1.420072e+09</td>\n",
       "      <td>-91.000000</td>\n",
       "    </tr>\n",
       "    <tr>\n",
       "      <th>25%</th>\n",
       "      <td>0.000000</td>\n",
       "      <td>1.439878e+09</td>\n",
       "      <td>1.000000</td>\n",
       "    </tr>\n",
       "    <tr>\n",
       "      <th>50%</th>\n",
       "      <td>0.000000</td>\n",
       "      <td>1.459968e+09</td>\n",
       "      <td>1.000000</td>\n",
       "    </tr>\n",
       "    <tr>\n",
       "      <th>75%</th>\n",
       "      <td>0.000000</td>\n",
       "      <td>1.479160e+09</td>\n",
       "      <td>3.000000</td>\n",
       "    </tr>\n",
       "    <tr>\n",
       "      <th>max</th>\n",
       "      <td>1.000000</td>\n",
       "      <td>1.498863e+09</td>\n",
       "      <td>4490.000000</td>\n",
       "    </tr>\n",
       "  </tbody>\n",
       "</table>\n",
       "</div>"
      ],
      "text/plain": [
       "       controversiality   created_utc         score\n",
       "count      45129.000000  4.512900e+04  45129.000000\n",
       "mean           0.020585  1.459646e+09      5.960890\n",
       "std            0.141993  2.265093e+07     49.337047\n",
       "min            0.000000  1.420072e+09    -91.000000\n",
       "25%            0.000000  1.439878e+09      1.000000\n",
       "50%            0.000000  1.459968e+09      1.000000\n",
       "75%            0.000000  1.479160e+09      3.000000\n",
       "max            1.000000  1.498863e+09   4490.000000"
      ]
     },
     "execution_count": 7,
     "metadata": {},
     "output_type": "execute_result"
    }
   ],
   "source": [
    "Regular_Comments.describe()"
   ]
  },
  {
   "cell_type": "code",
   "execution_count": 8,
   "metadata": {
    "ExecuteTime": {
     "end_time": "2018-12-13T21:39:40.409357Z",
     "start_time": "2018-12-13T21:39:39.928363Z"
    },
    "colab": {
     "base_uri": "https://localhost:8080/",
     "height": 485
    },
    "colab_type": "code",
    "id": "xDKlHyDj-LlI",
    "outputId": "70471dd6-5dc9-424a-97d5-081c18660c9c"
   },
   "outputs": [
    {
     "data": {
      "text/plain": [
       "Text(0, 0.5, 'Number of comments from that subreddit')"
      ]
     },
     "execution_count": 8,
     "metadata": {},
     "output_type": "execute_result"
    },
    {
     "data": {
      "image/png": "[encoded data removed]",
      "text/plain": [
       "<Figure size 432x288 with 1 Axes>"
      ]
     },
     "metadata": {
      "needs_background": "light"
     },
     "output_type": "display_data"
    }
   ],
   "source": [
    "#Najpopularniji subredditi medju botovima\n",
    "Russian_Bots.head()\n",
    "ax=Russian_Bots[\"subreddit.display_name_prefixed\"].value_counts()[:10].plot(kind=\"bar\",title=\"Najpopularniji subredditi medju botovima\")\n",
    "ax.set_xlabel(\"Subreddit\")\n",
    "ax.set_ylabel(\"Broj komentara\")"
   ]
  },
  {
   "cell_type": "code",
   "execution_count": 9,
   "metadata": {
    "ExecuteTime": {
     "end_time": "2018-12-13T21:39:40.850737Z",
     "start_time": "2018-12-13T21:39:40.412716Z"
    },
    "colab": {
     "base_uri": "https://localhost:8080/",
     "height": 460
    },
    "colab_type": "code",
    "id": "779NlIkS-Mbg",
    "outputId": "0f892b61-3840-42b8-e349-5bfbe49f323b"
   },
   "outputs": [
    {
     "data": {
      "text/plain": [
       "Text(0, 0.5, 'Broj komentara sa subreddita')"
      ]
     },
     "execution_count": 9,
     "metadata": {},
     "output_type": "execute_result"
    },
    {
     "data": {
      "image/png": "[encoded data removed]",
      "text/plain": [
       "<Figure size 432x288 with 1 Axes>"
      ]
     },
     "metadata": {
      "needs_background": "light"
     },
     "output_type": "display_data"
    }
   ],
   "source": [
    "#Najpopularniji subredditi medju regularnim komentarima\n",
    "Regular_Comments.head()\n",
    "ax=Regular_Comments[\"subreddit\"].value_counts()[:10].plot(kind=\"bar\",title=\"Najpopularniji subredditi medju regularnim korisnicima\")\n",
    "ax.set_xlabel(\"Ime subreddita\")\n",
    "ax.set_ylabel(\"Broj komentara sa subreddita\")"
   ]
  },
  {
   "cell_type": "code",
   "execution_count": 10,
   "metadata": {
    "ExecuteTime": {
     "end_time": "2018-12-13T21:39:40.926019Z",
     "start_time": "2018-12-13T21:39:40.854208Z"
    },
    "colab": {
     "base_uri": "https://localhost:8080/",
     "height": 34
    },
    "colab_type": "code",
    "id": "pZ-oPpXp-Oew",
    "outputId": "aa8e12a5-b59e-4353-ccfb-b8d991538d7a"
   },
   "outputs": [
    {
     "data": {
      "text/plain": [
       "45143"
      ]
     },
     "execution_count": 10,
     "metadata": {},
     "output_type": "execute_result"
    }
   ],
   "source": [
    "#Broj regularnih komentara\n",
    "len(Regular_Comments.drop_duplicates())"
   ]
  },
  {
   "cell_type": "code",
   "execution_count": 11,
   "metadata": {
    "ExecuteTime": {
     "end_time": "2018-12-13T21:39:40.949364Z",
     "start_time": "2018-12-13T21:39:40.930246Z"
    },
    "colab": {},
    "colab_type": "code",
    "id": "S-j98Ns9_LrV"
   },
   "outputs": [],
   "source": [
    "#Semplovanje regularnih komentara da ih bude isto koliko i ruskih bot komentara\n",
    "Regular_Comments_Sample=Regular_Comments.sample(n=len(Russian_Bots),random_state=1)"
   ]
  },
  {
   "cell_type": "code",
   "execution_count": 12,
   "metadata": {
    "ExecuteTime": {
     "end_time": "2018-12-13T21:39:41.338836Z",
     "start_time": "2018-12-13T21:39:40.952953Z"
    },
    "colab": {
     "base_uri": "https://localhost:8080/",
     "height": 427
    },
    "colab_type": "code",
    "id": "DmR41TMn_kC4",
    "outputId": "b84c8ec8-3f84-46c9-83d2-33a7ce0e2207"
   },
   "outputs": [
    {
     "data": {
      "text/plain": [
       "<matplotlib.axes._subplots.AxesSubplot at 0x19447da5ef0>"
      ]
     },
     "execution_count": 12,
     "metadata": {},
     "output_type": "execute_result"
    },
    {
     "data": {
      "image/png": "[encoded data removed]",
      "text/plain": [
       "<Figure size 432x288 with 1 Axes>"
      ]
     },
     "metadata": {
      "needs_background": "light"
     },
     "output_type": "display_data"
    }
   ],
   "source": [
    "#Najpopularniji subredditi medju semplovanim komentarima\n",
    "Regular_Comments_Sample[\"subreddit\"].value_counts()[:10].plot(kind=\"bar\")"
   ]
  },
  {
   "cell_type": "code",
   "execution_count": 13,
   "metadata": {
    "ExecuteTime": {
     "end_time": "2018-12-13T21:39:41.373051Z",
     "start_time": "2018-12-13T21:39:41.341990Z"
    },
    "colab": {
     "base_uri": "https://localhost:8080/",
     "height": 68
    },
    "colab_type": "code",
    "id": "LB0zsSf5_12K",
    "outputId": "41b25136-65a6-4a11-e90c-183010c01b4b"
   },
   "outputs": [
    {
     "data": {
      "text/plain": [
       "array([ True,  True,  True,  True,  True,  True,  True,  True,  True,\n",
       "        True,  True,  True,  True,  True,  True,  True,  True,  True,\n",
       "        True, False])"
      ]
     },
     "execution_count": 13,
     "metadata": {},
     "output_type": "execute_result"
    }
   ],
   "source": [
    "#Koliko najpopularnijih subreddita ima na oba dataseta\n",
    "Regular_Comments_Sample[\"subreddit\"].value_counts()[:20].index.isin(Regular_Comments[\"subreddit\"].value_counts()[:20].index)"
   ]
  },
  {
   "cell_type": "code",
   "execution_count": 14,
   "metadata": {
    "ExecuteTime": {
     "end_time": "2018-12-13T21:39:41.403936Z",
     "start_time": "2018-12-13T21:39:41.376061Z"
    },
    "colab": {
     "base_uri": "https://localhost:8080/",
     "height": 102
    },
    "colab_type": "code",
    "id": "oxs38TKJBv_Y",
    "outputId": "f1eabdfe-a70c-40b2-9f64-181a294cd98e"
   },
   "outputs": [
    {
     "data": {
      "text/plain": [
       "Index(['AskReddit', 'politics', 'leagueoflegends', 'worldnews', 'funny', 'nba',\n",
       "       'nfl', 'news', 'pics', 'videos', 'pcmasterrace', 'The_Donald',\n",
       "       'SquaredCircle', 'soccer', 'todayilearned', 'movies', 'hockey',\n",
       "       'gaming', 'DestinyTheGame', 'DotA2'],\n",
       "      dtype='object')"
      ]
     },
     "execution_count": 14,
     "metadata": {},
     "output_type": "execute_result"
    }
   ],
   "source": [
    "#Dvadeset najcescih subreddita\n",
    "Regular_Comments[\"subreddit\"].value_counts()[:20].index"
   ]
  },
  {
   "cell_type": "markdown",
   "metadata": {
    "colab_type": "text",
    "id": "eNVxyTFtfMa1"
   },
   "source": [
    "# Analiziranje upvote-ova"
   ]
  },
  {
   "cell_type": "code",
   "execution_count": 15,
   "metadata": {
    "ExecuteTime": {
     "end_time": "2018-12-13T21:39:41.421734Z",
     "start_time": "2018-12-13T21:39:41.408183Z"
    },
    "colab": {
     "base_uri": "https://localhost:8080/",
     "height": 204
    },
    "colab_type": "code",
    "id": "K37dGt1HFsz5",
    "outputId": "35653ad8-d49d-4b89-b34c-ab4f021452be"
   },
   "outputs": [
    {
     "name": "stdout",
     "output_type": "stream",
     "text": [
      " 1    3560\n",
      " 2    1004\n",
      " 0     452\n",
      " 3     369\n",
      "-1     186\n",
      " 4     147\n",
      " 5     121\n",
      "-2     111\n",
      " 6      91\n",
      " 7      55\n",
      "Name: score, dtype: int64\n"
     ]
    }
   ],
   "source": [
    "#Najcesci broj upvote-ova na komentarima ruskih botova\n",
    "print(Russian_Bots.score.value_counts()[:10])"
   ]
  },
  {
   "cell_type": "code",
   "execution_count": 16,
   "metadata": {
    "ExecuteTime": {
     "end_time": "2018-12-13T21:39:41.502581Z",
     "start_time": "2018-12-13T21:39:41.491370Z"
    },
    "colab": {
     "base_uri": "https://localhost:8080/",
     "height": 238
    },
    "colab_type": "code",
    "id": "hh6Y1pmhBLHf",
    "outputId": "247e3782-63ed-4102-9b75-f8b2981ba373"
   },
   "outputs": [
    {
     "name": "stdout",
     "output_type": "stream",
     "text": [
      " 1.0     2957\n",
      " 2.0     1175\n",
      " 3.0      594\n",
      " 0.0      249\n",
      " 4.0      218\n",
      " 5.0      218\n",
      " 6.0      153\n",
      " 7.0      125\n",
      " 8.0      100\n",
      "-1.0       82\n",
      " 9.0       71\n",
      " 10.0      63\n",
      "Name: score, dtype: int64\n"
     ]
    }
   ],
   "source": [
    "#Najcesci broj upvote-ova na komentarima regularnih korisnika\n",
    "print(Regular_Comments_Sample.score.value_counts()[:10])"
   ]
  },
  {
   "cell_type": "code",
   "execution_count": 17,
   "metadata": {
    "ExecuteTime": {
     "end_time": "2018-12-13T21:39:41.597644Z",
     "start_time": "2018-12-13T21:39:41.589667Z"
    },
    "colab": {
     "base_uri": "https://localhost:8080/",
     "height": 51
    },
    "colab_type": "code",
    "id": "11A3TFrNF1Zu",
    "outputId": "30da17ca-7b1b-46ea-cfd1-43c999e29894"
   },
   "outputs": [
    {
     "name": "stdout",
     "output_type": "stream",
     "text": [
      "Mean upvote-ova regularnih 5.585692995529061\n",
      "Mean botova  17.600804649083592\n"
     ]
    }
   ],
   "source": [
    "#Mean od upvote-ova komentara\n",
    "print(\"Mean upvote-ova regularnih {}\".format\n",
    "     (np.mean(Regular_Comments_Sample.score)))\n",
    "\n",
    "print(\"Mean botova  {}\".format\n",
    "     ((np.mean(Russian_Bots.score))))\n"
   ]
  },
  {
   "cell_type": "code",
   "execution_count": 18,
   "metadata": {
    "ExecuteTime": {
     "end_time": "2018-12-13T21:39:41.651201Z",
     "start_time": "2018-12-13T21:39:41.644173Z"
    },
    "colab": {
     "base_uri": "https://localhost:8080/",
     "height": 34
    },
    "colab_type": "code",
    "id": "EJ6FADWxI8TS",
    "outputId": "f12467be-82dc-4ccc-9cfb-c0cfeb065d06"
   },
   "outputs": [
    {
     "name": "stdout",
     "output_type": "stream",
     "text": [
      "1181.0\n"
     ]
    }
   ],
   "source": [
    "#100 percentil upvote-ova regularnih \n",
    "print(np.percentile(Regular_Comments_Sample.score.dropna(),100))"
   ]
  },
  {
   "cell_type": "code",
   "execution_count": 19,
   "metadata": {
    "ExecuteTime": {
     "end_time": "2018-12-13T21:39:41.730991Z",
     "start_time": "2018-12-13T21:39:41.724781Z"
    },
    "colab": {
     "base_uri": "https://localhost:8080/",
     "height": 34
    },
    "colab_type": "code",
    "id": "LXk6PfDmJAwc",
    "outputId": "ca1e92ff-21c1-4380-a879-64b5e88aec66"
   },
   "outputs": [
    {
     "name": "stdout",
     "output_type": "stream",
     "text": [
      "22872.0\n"
     ]
    }
   ],
   "source": [
    "#isto za trolove\n",
    "print(np.percentile(Russian_Bots.score.dropna(),100))"
   ]
  },
  {
   "cell_type": "code",
   "execution_count": 20,
   "metadata": {
    "ExecuteTime": {
     "end_time": "2018-12-13T21:39:41.827161Z",
     "start_time": "2018-12-13T21:39:41.810467Z"
    },
    "colab": {
     "base_uri": "https://localhost:8080/",
     "height": 34
    },
    "colab_type": "code",
    "id": "GlRrQg32Kp4f",
    "outputId": "a2701bcb-80b5-42ba-e1a3-8e82af89944a"
   },
   "outputs": [
    {
     "name": "stdout",
     "output_type": "stream",
     "text": [
      "[-22.3, -3.146551724137931, 2.096075085324232, 25.269372693726936, 195.89743589743588, 679.8333333333334]\n"
     ]
    }
   ],
   "source": [
    "#Pravljenje binova po upvote-ovima za regularne\n",
    "bins=[-10,0,10,100,500,1000]\n",
    "digitized=np.digitize(Regular_Comments_Sample.score, bins)\n",
    "bin_means=[Regular_Comments_Sample.score[digitized == i].mean() for i in range(0, len(bins))]\n",
    "print(bin_means) #mean upvote-ova za svaki bin"
   ]
  },
  {
   "cell_type": "code",
   "execution_count": 21,
   "metadata": {
    "ExecuteTime": {
     "end_time": "2018-12-13T21:39:42.237290Z",
     "start_time": "2018-12-13T21:39:41.896721Z"
    },
    "colab": {
     "base_uri": "https://localhost:8080/",
     "height": 465
    },
    "colab_type": "code",
    "id": "Pfm6GtSpLcQn",
    "outputId": "75f48954-7413-4bcb-c238-a7d0bd656941"
   },
   "outputs": [
    {
     "name": "stderr",
     "output_type": "stream",
     "text": [
      "d:\\ftn\\4 godina\\7 semestar\\soft kompjuting\\vezbe\\sc-2020-siit-main\\venv\\lib\\site-packages\\seaborn\\_decorators.py:43: FutureWarning: Pass the following variable as a keyword arg: x. From version 0.12, the only valid positional argument will be `data`, and passing other arguments without an explicit keyword will result in an error or misinterpretation.\n",
      "  FutureWarning\n"
     ]
    },
    {
     "data": {
      "text/plain": [
       "[Text(0, 0.5, 'Broj komentara'),\n",
       " Text(0.5, 0, 'bin'),\n",
       " Text(0.5, 1.0, 'Distribucija upvote-ova regularnih')]"
      ]
     },
     "execution_count": 21,
     "metadata": {},
     "output_type": "execute_result"
    },
    {
     "data": {
      "image/png": "[encoded data removed]",
      "text/plain": [
       "<Figure size 432x288 with 1 Axes>"
      ]
     },
     "metadata": {
      "needs_background": "light"
     },
     "output_type": "display_data"
    }
   ],
   "source": [
    "#Vizualizacija distribucije za binove\n",
    "ax=sns.countplot(digitized)\n",
    "ax.set(xlabel='bin', ylabel='Broj komentara',title=\"Distribucija upvote-ova regularnih\")"
   ]
  },
  {
   "cell_type": "code",
   "execution_count": 22,
   "metadata": {
    "ExecuteTime": {
     "end_time": "2018-12-13T21:39:42.252857Z",
     "start_time": "2018-12-13T21:39:42.240682Z"
    },
    "colab": {},
    "colab_type": "code",
    "id": "kHRz2h5XLddM"
   },
   "outputs": [],
   "source": [
    "#Binovi za botove\n",
    "bins = [-10,0,10,100,500,1000]\n",
    "digitized = np.digitize(Russian_Bots.score, bins)\n",
    "bin_means = [Russian_Bots.score[digitized == i].mean() for i in range(0, len(bins))]"
   ]
  },
  {
   "cell_type": "code",
   "execution_count": 23,
   "metadata": {
    "ExecuteTime": {
     "end_time": "2018-12-13T21:39:42.590613Z",
     "start_time": "2018-12-13T21:39:42.256358Z"
    },
    "colab": {
     "base_uri": "https://localhost:8080/",
     "height": 465
    },
    "colab_type": "code",
    "id": "Ssjb5JSALza5",
    "outputId": "8ae280e3-8d8c-41b6-fe1a-cf234dab3c45"
   },
   "outputs": [
    {
     "name": "stderr",
     "output_type": "stream",
     "text": [
      "d:\\ftn\\4 godina\\7 semestar\\soft kompjuting\\vezbe\\sc-2020-siit-main\\venv\\lib\\site-packages\\seaborn\\_decorators.py:43: FutureWarning: Pass the following variable as a keyword arg: x. From version 0.12, the only valid positional argument will be `data`, and passing other arguments without an explicit keyword will result in an error or misinterpretation.\n",
      "  FutureWarning\n"
     ]
    },
    {
     "data": {
      "text/plain": [
       "[Text(0, 0.5, 'Broj komentara'),\n",
       " Text(0.5, 0, 'bin'),\n",
       " Text(0.5, 1.0, 'Distribucija upvote-ova botova')]"
      ]
     },
     "execution_count": 23,
     "metadata": {},
     "output_type": "execute_result"
    },
    {
     "data": {
      "image/png": "[encoded data removed]",
      "text/plain": [
       "<Figure size 432x288 with 1 Axes>"
      ]
     },
     "metadata": {
      "needs_background": "light"
     },
     "output_type": "display_data"
    }
   ],
   "source": [
    "ax=sns.countplot(digitized)\n",
    "ax.set(xlabel='bin', ylabel='Broj komentara',title=\"Distribucija upvote-ova botova\")"
   ]
  },
  {
   "cell_type": "markdown",
   "metadata": {
    "colab_type": "text",
    "id": "mg9GqE0DhLTO"
   },
   "source": [
    "# Analiziranje vremena postovanja"
   ]
  },
  {
   "cell_type": "code",
   "execution_count": 24,
   "metadata": {
    "ExecuteTime": {
     "end_time": "2018-12-13T21:39:42.858676Z",
     "start_time": "2018-12-13T21:39:42.593449Z"
    },
    "colab": {},
    "colab_type": "code",
    "id": "XVZ_9uQ2gaXD"
   },
   "outputs": [
    {
     "name": "stderr",
     "output_type": "stream",
     "text": [
      "d:\\ftn\\4 godina\\7 semestar\\soft kompjuting\\vezbe\\sc-2020-siit-main\\venv\\lib\\site-packages\\ipykernel_launcher.py:2: SettingWithCopyWarning: \n",
      "A value is trying to be set on a copy of a slice from a DataFrame.\n",
      "Try using .loc[row_indexer,col_indexer] = value instead\n",
      "\n",
      "See the caveats in the documentation: http://pandas.pydata.org/pandas-docs/stable/user_guide/indexing.html#returning-a-view-versus-a-copy\n",
      "  \n"
     ]
    }
   ],
   "source": [
    "#utc u datetime\n",
    "Russian_Bots[\"date\"] = pd.to_datetime(Russian_Bots['created_utc'],unit='s')\n",
    "Regular_Comments_Sample[\"date\"] = pd.to_datetime(Regular_Comments_Sample['created_utc'],unit='s')\n",
    "#warning je false-positive, ima objasnjenje na stacku zasto, nisam istrazio do kraja jer radi sve"
   ]
  },
  {
   "cell_type": "code",
   "execution_count": 25,
   "metadata": {
    "ExecuteTime": {
     "end_time": "2018-12-13T21:39:42.880532Z",
     "start_time": "2018-12-13T21:39:42.862097Z"
    },
    "colab": {},
    "colab_type": "code",
    "id": "FwiWaVKWhUKY"
   },
   "outputs": [
    {
     "name": "stderr",
     "output_type": "stream",
     "text": [
      "d:\\ftn\\4 godina\\7 semestar\\soft kompjuting\\vezbe\\sc-2020-siit-main\\venv\\lib\\site-packages\\ipykernel_launcher.py:2: SettingWithCopyWarning: \n",
      "A value is trying to be set on a copy of a slice from a DataFrame.\n",
      "Try using .loc[row_indexer,col_indexer] = value instead\n",
      "\n",
      "See the caveats in the documentation: http://pandas.pydata.org/pandas-docs/stable/user_guide/indexing.html#returning-a-view-versus-a-copy\n",
      "  \n"
     ]
    }
   ],
   "source": [
    "#utc u datetime\n",
    "Russian_Bots[\"Time\"]=Russian_Bots[\"date\"].dt.hour.dropna()\n",
    "Regular_Comments_Sample[\"Time\"]=Regular_Comments_Sample[\"date\"].dt.hour.dropna()\n"
   ]
  },
  {
   "cell_type": "code",
   "execution_count": 26,
   "metadata": {
    "ExecuteTime": {
     "end_time": "2018-12-13T21:39:43.438626Z",
     "start_time": "2018-12-13T21:39:42.884449Z"
    },
    "colab": {
     "base_uri": "https://localhost:8080/",
     "height": 465
    },
    "colab_type": "code",
    "id": "W3qcqZyHhVj1",
    "outputId": "4872b816-a725-4c3b-87a1-dece4fa8edc2"
   },
   "outputs": [
    {
     "name": "stderr",
     "output_type": "stream",
     "text": [
      "d:\\ftn\\4 godina\\7 semestar\\soft kompjuting\\vezbe\\sc-2020-siit-main\\venv\\lib\\site-packages\\seaborn\\_decorators.py:43: FutureWarning: Pass the following variable as a keyword arg: x. From version 0.12, the only valid positional argument will be `data`, and passing other arguments without an explicit keyword will result in an error or misinterpretation.\n",
      "  FutureWarning\n"
     ]
    },
    {
     "data": {
      "text/plain": [
       "[Text(0, 0.5, 'broj komentara'),\n",
       " Text(0.5, 0, 'vreme'),\n",
       " Text(0.5, 1.0, 'Distribucija vremena postovanja komentara')]"
      ]
     },
     "execution_count": 26,
     "metadata": {},
     "output_type": "execute_result"
    },
    {
     "data": {
      "image/png": "[encoded data removed]",
      "text/plain": [
       "<Figure size 432x288 with 1 Axes>"
      ]
     },
     "metadata": {
      "needs_background": "light"
     },
     "output_type": "display_data"
    }
   ],
   "source": [
    "ax=sns.countplot(Regular_Comments_Sample.Time)\n",
    "ax.set(title=\"Distribucija vremena postovanja komentara\",xlabel=\"vreme\",ylabel=\"broj komentara\")"
   ]
  },
  {
   "cell_type": "code",
   "execution_count": 27,
   "metadata": {
    "ExecuteTime": {
     "end_time": "2018-12-13T21:39:43.990763Z",
     "start_time": "2018-12-13T21:39:43.442165Z"
    },
    "colab": {
     "base_uri": "https://localhost:8080/",
     "height": 465
    },
    "colab_type": "code",
    "id": "x51ZmAGYiyy8",
    "outputId": "fbe10012-8ea9-4e1f-98bc-75ab4cd98b0d"
   },
   "outputs": [
    {
     "name": "stderr",
     "output_type": "stream",
     "text": [
      "d:\\ftn\\4 godina\\7 semestar\\soft kompjuting\\vezbe\\sc-2020-siit-main\\venv\\lib\\site-packages\\seaborn\\_decorators.py:43: FutureWarning: Pass the following variable as a keyword arg: x. From version 0.12, the only valid positional argument will be `data`, and passing other arguments without an explicit keyword will result in an error or misinterpretation.\n",
      "  FutureWarning\n"
     ]
    },
    {
     "data": {
      "text/plain": [
       "[Text(0, 0.5, 'broj komentara'),\n",
       " Text(0.5, 0, 'vreme'),\n",
       " Text(0.5, 1.0, 'Distribucija vremena postovanja komentara za botove')]"
      ]
     },
     "execution_count": 27,
     "metadata": {},
     "output_type": "execute_result"
    },
    {
     "data": {
      "image/png": "[encoded data removed]",
      "text/plain": [
       "<Figure size 432x288 with 1 Axes>"
      ]
     },
     "metadata": {
      "needs_background": "light"
     },
     "output_type": "display_data"
    }
   ],
   "source": [
    "ax=sns.countplot(Russian_Bots.Time)\n",
    "ax.set(title=\"Distribucija vremena postovanja komentara za botove\",xlabel=\"vreme\",ylabel=\"broj komentara\")"
   ]
  },
  {
   "cell_type": "code",
   "execution_count": 28,
   "metadata": {
    "ExecuteTime": {
     "end_time": "2018-12-13T21:39:44.010085Z",
     "start_time": "2018-12-13T21:39:43.995373Z"
    },
    "colab": {
     "base_uri": "https://localhost:8080/",
     "height": 34
    },
    "colab_type": "code",
    "id": "e_Hrw2XO0kTz",
    "outputId": "078e3f52-afab-4620-a36c-6ef1121510d2"
   },
   "outputs": [
    {
     "data": {
      "text/plain": [
       "Ks_2sampResult(statistic=0.1876024437490687, pvalue=1.3238198576170733e-103)"
      ]
     },
     "execution_count": 28,
     "metadata": {},
     "output_type": "execute_result"
    }
   ],
   "source": [
    "#Da li je distribucija vremena postovanja statisticki znacajna\n",
    "stats.ks_2samp(Russian_Bots.Time,  Regular_Comments_Sample.Time)"
   ]
  },
  {
   "cell_type": "code",
   "execution_count": 29,
   "metadata": {
    "ExecuteTime": {
     "end_time": "2018-12-13T21:39:44.067316Z",
     "start_time": "2018-12-13T21:39:44.014008Z"
    },
    "colab": {
     "base_uri": "https://localhost:8080/",
     "height": 884
    },
    "colab_type": "code",
    "id": "Bt-kAPFtnj5l",
    "outputId": "2939f98f-7f55-4033-ce72-cc2ce15a4e59"
   },
   "outputs": [
    {
     "data": {
      "text/plain": [
       "2018-01-06    83\n",
       "2018-02-02    77\n",
       "2016-04-27    75\n",
       "2018-01-10    74\n",
       "2018-03-05    64\n",
       "2015-06-07    63\n",
       "2018-01-03    61\n",
       "2018-03-12    61\n",
       "2017-05-17    57\n",
       "2018-01-22    55\n",
       "2017-12-12    55\n",
       "2018-01-26    55\n",
       "2017-12-25    54\n",
       "2016-04-07    54\n",
       "2018-03-07    54\n",
       "2018-01-11    54\n",
       "2018-01-23    54\n",
       "2016-04-08    53\n",
       "2015-06-06    52\n",
       "2016-08-17    47\n",
       "2017-12-26    47\n",
       "2018-01-20    47\n",
       "2017-12-24    47\n",
       "2017-12-22    44\n",
       "2016-04-05    44\n",
       "2016-07-27    43\n",
       "2017-12-21    43\n",
       "2017-12-29    42\n",
       "2018-01-31    42\n",
       "2016-04-23    42\n",
       "2018-02-19    39\n",
       "2015-09-16    39\n",
       "2016-09-13    38\n",
       "2016-04-06    37\n",
       "2015-11-30    37\n",
       "2017-12-27    36\n",
       "2015-09-12    36\n",
       "2018-01-30    36\n",
       "2018-01-04    36\n",
       "2018-01-09    35\n",
       "2016-08-14    35\n",
       "2015-09-17    35\n",
       "2015-09-13    35\n",
       "2016-04-09    35\n",
       "2018-03-06    34\n",
       "2016-09-07    34\n",
       "2016-09-08    33\n",
       "2017-12-11    33\n",
       "2016-04-28    33\n",
       "2018-03-13    32\n",
       "Name: date, dtype: int64"
      ]
     },
     "execution_count": 29,
     "metadata": {},
     "output_type": "execute_result"
    }
   ],
   "source": [
    "#Datumi sa najvise komentara botova\n",
    "Russian_Bots[\"date\"].dt.date.value_counts()[:50]"
   ]
  },
  {
   "cell_type": "code",
   "execution_count": 30,
   "metadata": {
    "ExecuteTime": {
     "end_time": "2018-12-13T21:39:44.126238Z",
     "start_time": "2018-12-13T21:39:44.078847Z"
    },
    "colab": {
     "base_uri": "https://localhost:8080/",
     "height": 374
    },
    "colab_type": "code",
    "id": "mVpGwkArnXzP",
    "outputId": "68f724cb-a379-4c17-bdf5-9842c8162d70"
   },
   "outputs": [
    {
     "data": {
      "text/plain": [
       "2016-10-23    20\n",
       "2016-05-04    19\n",
       "2015-07-10    17\n",
       "2016-07-20    16\n",
       "2017-02-03    16\n",
       "2015-03-06    16\n",
       "2015-03-18    15\n",
       "2015-08-11    15\n",
       "2015-06-09    15\n",
       "2015-06-10    15\n",
       "2016-12-10    15\n",
       "2017-06-05    15\n",
       "2015-08-13    15\n",
       "2015-04-27    15\n",
       "2015-04-14    15\n",
       "2016-06-29    15\n",
       "2016-04-21    14\n",
       "2016-11-09    14\n",
       "2015-05-18    14\n",
       "2016-05-19    14\n",
       "Name: date, dtype: int64"
      ]
     },
     "execution_count": 30,
     "metadata": {},
     "output_type": "execute_result"
    }
   ],
   "source": [
    "#Datumi sa najvise komentara regularnih korisnika \n",
    "Regular_Comments_Sample[\"date\"].dt.date.value_counts()[:20]"
   ]
  },
  {
   "cell_type": "markdown",
   "metadata": {
    "colab_type": "text",
    "id": "hEhyCN9fJ9jk"
   },
   "source": [
    "\"Named Entities\""
   ]
  },
  {
   "cell_type": "code",
   "execution_count": 31,
   "metadata": {
    "ExecuteTime": {
     "end_time": "2018-12-13T22:09:30.203334Z",
     "start_time": "2018-12-13T22:09:29.685219Z"
    },
    "colab": {},
    "colab_type": "code",
    "id": "38WXvyUKKA95"
   },
   "outputs": [],
   "source": [
    "nlp = spacy.load('en_core_web_sm')\n",
    "#u novom spacy mora ovako, ranije moglo samo en, zna da baguje sa starijom verzijom spacy-ja"
   ]
  },
  {
   "cell_type": "code",
   "execution_count": 32,
   "metadata": {
    "ExecuteTime": {
     "end_time": "2018-12-13T21:39:44.990761Z",
     "start_time": "2018-12-13T21:39:43.028Z"
    },
    "colab": {},
    "colab_type": "code",
    "id": "67hfqXy4UFgF"
   },
   "outputs": [
    {
     "name": "stderr",
     "output_type": "stream",
     "text": [
      "d:\\ftn\\4 godina\\7 semestar\\soft kompjuting\\vezbe\\sc-2020-siit-main\\venv\\lib\\site-packages\\pandas\\core\\generic.py:5208: SettingWithCopyWarning: \n",
      "A value is trying to be set on a copy of a slice from a DataFrame.\n",
      "Try using .loc[row_indexer,col_indexer] = value instead\n",
      "\n",
      "See the caveats in the documentation: http://pandas.pydata.org/pandas-docs/stable/user_guide/indexing.html#returning-a-view-versus-a-copy\n",
      "  self[name] = value\n"
     ]
    }
   ],
   "source": [
    "\n",
    "#sredjivanje datasetova od praznina, spaceova...\n",
    "Russian_Bots.body=Russian_Bots.body.str.replace(\"(\\r)|(\\n)\",\"\")\n",
    "Regular_Comments_Sample.body=Regular_Comments_Sample.body.str.replace(\"(\\r)|(\\n)\",\"\")"
   ]
  },
  {
   "cell_type": "code",
   "execution_count": 33,
   "metadata": {
    "ExecuteTime": {
     "end_time": "2018-12-13T21:39:44.994345Z",
     "start_time": "2018-12-13T21:39:43.159Z"
    },
    "colab": {},
    "colab_type": "code",
    "id": "QMZbig3mLGn_"
   },
   "outputs": [],
   "source": [
    "def named_entities(x):\n",
    "    \"\"\"dobavljanje named entities\"\"\"\n",
    "    doc=nlp(x)\n",
    "    named_=[]\n",
    "    for doc in doc.ents:\n",
    "        if doc == None:\n",
    "            return named_\n",
    "        else:\n",
    "            named_.append(doc)\n",
    "    return named_"
   ]
  },
  {
   "cell_type": "code",
   "execution_count": 34,
   "metadata": {
    "ExecuteTime": {
     "end_time": "2018-12-13T21:39:44.995918Z",
     "start_time": "2018-12-13T21:39:43.218Z"
    },
    "colab": {},
    "colab_type": "code",
    "id": "__DdnxmZKkyw"
   },
   "outputs": [],
   "source": [
    "#Named entities za regularne\n",
    "Regular_Comments_Sample[\"Named_entities\"]=Regular_Comments_Sample.body.apply(func=lambda x: named_entities(x))"
   ]
  },
  {
   "cell_type": "code",
   "execution_count": 35,
   "metadata": {
    "ExecuteTime": {
     "end_time": "2018-12-13T21:39:44.997246Z",
     "start_time": "2018-12-13T21:39:43.279Z"
    },
    "colab": {},
    "colab_type": "code",
    "id": "19vIoi0IMq-9"
   },
   "outputs": [
    {
     "name": "stderr",
     "output_type": "stream",
     "text": [
      "d:\\ftn\\4 godina\\7 semestar\\soft kompjuting\\vezbe\\sc-2020-siit-main\\venv\\lib\\site-packages\\ipykernel_launcher.py:2: SettingWithCopyWarning: \n",
      "A value is trying to be set on a copy of a slice from a DataFrame.\n",
      "Try using .loc[row_indexer,col_indexer] = value instead\n",
      "\n",
      "See the caveats in the documentation: http://pandas.pydata.org/pandas-docs/stable/user_guide/indexing.html#returning-a-view-versus-a-copy\n",
      "  \n"
     ]
    }
   ],
   "source": [
    "#NE za botove\n",
    "Russian_Bots[\"Named_entities\"]=Russian_Bots.body.apply(func=lambda x: named_entities(x))"
   ]
  },
  {
   "cell_type": "code",
   "execution_count": 36,
   "metadata": {
    "ExecuteTime": {
     "end_time": "2018-12-13T21:39:44.998744Z",
     "start_time": "2018-12-13T21:39:43.337Z"
    },
    "colab": {},
    "colab_type": "code",
    "id": "ee2NPYRfRMlt"
   },
   "outputs": [],
   "source": [
    "def get_polarity(x):\n",
    "  \"\"\"Polarnost svakog komentara.\"\"\"\n",
    "  b = TextBlob(x)\n",
    "  return b.sentiment.polarity"
   ]
  },
  {
   "cell_type": "code",
   "execution_count": 37,
   "metadata": {
    "colab": {
     "base_uri": "https://localhost:8080/",
     "height": 34
    },
    "colab_type": "code",
    "id": "FRji5PORRY10",
    "outputId": "7e81d35c-cacb-4bea-9265-506960a6bc0f"
   },
   "outputs": [
    {
     "data": {
      "text/plain": [
       "0.0816217140364302"
      ]
     },
     "execution_count": 37,
     "metadata": {},
     "output_type": "execute_result"
    }
   ],
   "source": [
    "#Polarnost regularnih\n",
    "Regular_Comments_Sample[\"Polarity\"]=Regular_Comments_Sample.body.apply(func=lambda x: get_polarity(x))\n",
    "np.mean(Regular_Comments_Sample[\"Polarity\"])"
   ]
  },
  {
   "cell_type": "code",
   "execution_count": 38,
   "metadata": {
    "colab": {
     "base_uri": "https://localhost:8080/",
     "height": 34
    },
    "colab_type": "code",
    "id": "Q0vnLcXWR3z4",
    "outputId": "557f6364-5e74-4838-dcba-a9ccf2cddc94"
   },
   "outputs": [
    {
     "name": "stderr",
     "output_type": "stream",
     "text": [
      "d:\\ftn\\4 godina\\7 semestar\\soft kompjuting\\vezbe\\sc-2020-siit-main\\venv\\lib\\site-packages\\ipykernel_launcher.py:2: SettingWithCopyWarning: \n",
      "A value is trying to be set on a copy of a slice from a DataFrame.\n",
      "Try using .loc[row_indexer,col_indexer] = value instead\n",
      "\n",
      "See the caveats in the documentation: http://pandas.pydata.org/pandas-docs/stable/user_guide/indexing.html#returning-a-view-versus-a-copy\n",
      "  \n"
     ]
    },
    {
     "data": {
      "text/plain": [
       "0.11293680868512034"
      ]
     },
     "execution_count": 38,
     "metadata": {},
     "output_type": "execute_result"
    }
   ],
   "source": [
    "#Polarnost botova\n",
    "Russian_Bots[\"Polarity\"]=Russian_Bots.body.apply(func=lambda x: get_polarity(x))\n",
    "np.mean(Russian_Bots[\"Polarity\"])"
   ]
  },
  {
   "cell_type": "markdown",
   "metadata": {
    "colab_type": "text",
    "id": "qsrPGO4dyFFe"
   },
   "source": [
    "Flesch-Kinkaid"
   ]
  },
  {
   "cell_type": "code",
   "execution_count": 39,
   "metadata": {
    "colab": {
     "base_uri": "https://localhost:8080/",
     "height": 34
    },
    "colab_type": "code",
    "id": "WdwYplQSyKYk",
    "outputId": "2c23aba3-f19e-4bf5-a309-07e25a3639c9"
   },
   "outputs": [
    {
     "name": "stderr",
     "output_type": "stream",
     "text": [
      "d:\\ftn\\4 godina\\7 semestar\\soft kompjuting\\vezbe\\sc-2020-siit-main\\venv\\lib\\site-packages\\ipykernel_launcher.py:2: SettingWithCopyWarning: \n",
      "A value is trying to be set on a copy of a slice from a DataFrame.\n",
      "Try using .loc[row_indexer,col_indexer] = value instead\n",
      "\n",
      "See the caveats in the documentation: http://pandas.pydata.org/pandas-docs/stable/user_guide/indexing.html#returning-a-view-versus-a-copy\n",
      "  \n"
     ]
    },
    {
     "data": {
      "text/plain": [
       "6.312993592609149"
      ]
     },
     "execution_count": 39,
     "metadata": {},
     "output_type": "execute_result"
    }
   ],
   "source": [
    "#Flesch Kincaid za botove\n",
    "Russian_Bots[\"Flesch_Kincaid\"]=Russian_Bots.body.apply(func=lambda x: textstat.flesch_kincaid_grade(x))\n",
    "np.mean(Russian_Bots[\"Flesch_Kincaid\"])"
   ]
  },
  {
   "cell_type": "code",
   "execution_count": 40,
   "metadata": {
    "colab": {
     "base_uri": "https://localhost:8080/",
     "height": 34
    },
    "colab_type": "code",
    "id": "1yGprpGeyrH4",
    "outputId": "89a750f2-0bb2-45b2-cebb-3bec90474a06"
   },
   "outputs": [
    {
     "data": {
      "text/plain": [
       "10.82019073163463"
      ]
     },
     "execution_count": 40,
     "metadata": {},
     "output_type": "execute_result"
    }
   ],
   "source": [
    "#Isto za regularne\n",
    "Regular_Comments_Sample[\"Flesch_Kincaid\"]=Regular_Comments_Sample.body.apply(func=lambda x: textstat.flesch_kincaid_grade(x))\n",
    "np.mean(Regular_Comments_Sample[\"Flesch_Kincaid\"])"
   ]
  },
  {
   "cell_type": "markdown",
   "metadata": {
    "colab_type": "text",
    "id": "PBMPXvj35jEq"
   },
   "source": [
    "# Analiziranje broja kontroverznih komentara"
   ]
  },
  {
   "cell_type": "code",
   "execution_count": 41,
   "metadata": {
    "colab": {
     "base_uri": "https://localhost:8080/",
     "height": 68
    },
    "colab_type": "code",
    "id": "BPS2BBnT6sZ9",
    "outputId": "639d7c97-2f0a-400b-e1e1-14d7bd3a78d3"
   },
   "outputs": [
    {
     "data": {
      "text/plain": [
       "0    6466\n",
       "1     245\n",
       "Name: controversiality, dtype: int64"
      ]
     },
     "execution_count": 41,
     "metadata": {},
     "output_type": "execute_result"
    }
   ],
   "source": [
    "#Broj kontroverznih bot komentara\n",
    "Russian_Bots.controversiality.value_counts()"
   ]
  },
  {
   "cell_type": "code",
   "execution_count": 42,
   "metadata": {
    "colab": {
     "base_uri": "https://localhost:8080/",
     "height": 68
    },
    "colab_type": "code",
    "id": "tPhZkj-s61oW",
    "outputId": "5255c227-a5db-411f-8db3-c6068ea5d9e7"
   },
   "outputs": [
    {
     "data": {
      "text/plain": [
       "0.0    6577\n",
       "1.0     133\n",
       "Name: controversiality, dtype: int64"
      ]
     },
     "execution_count": 42,
     "metadata": {},
     "output_type": "execute_result"
    }
   ],
   "source": [
    "#Broj kontroverznih regularnih\n",
    "Regular_Comments_Sample.controversiality.value_counts()"
   ]
  },
  {
   "cell_type": "markdown",
   "metadata": {
    "colab_type": "text",
    "id": "ZWqG_bJ16Ffu"
   },
   "source": [
    "# Leksika"
   ]
  },
  {
   "cell_type": "code",
   "execution_count": 43,
   "metadata": {
    "colab": {},
    "colab_type": "code",
    "id": "sA0dgUp16TXt"
   },
   "outputs": [],
   "source": [
    "lexicon = Empath()"
   ]
  },
  {
   "cell_type": "code",
   "execution_count": 44,
   "metadata": {
    "colab": {
     "base_uri": "https://localhost:8080/",
     "height": 122
    },
    "colab_type": "code",
    "id": "4slaFIZCG1O_",
    "outputId": "1835e426-c8d4-4181-d2e7-5a6f763851db"
   },
   "outputs": [
    {
     "name": "stdout",
     "output_type": "stream",
     "text": [
      "[\"russia\", \"ukraine\", \"russia\", \"crimea\", \"kiev\", \"russians\", \"kremlin\", \"ukrainians\", \"seperatists\", \"moscow\", \"poroshenko\", \"eastern_ukraine\", \"Ukraine\", \"iran\", \"Kiev\", \"maidan\", \"iran\", \"Donbass\", \"Kremlin\", \"Putin\", \"Ukrain\", \"north_korea\", \"Ukraine\", \"ukraine\", \"iraq\", \"iraq\", \"separatist\", \"Kremlin\", \"russian_army\", \"Ukrainian_government\", \"East_Ukraine\", \"putin\", \"yemen\", \"chechnya\", \"Eastern_Ukraine\", \"russian\", \"separatists\", \"Russia\", \"Poroshenko\", \"ukrainian\", \"syria\", \"ukranians\", \"Donbass\", \"Russian_invasion\", \"Poroshenko\", \"donbass\", \"baltics\", \"Putin\", \"russian_invasion\", \"russian_troops\", \"east_Ukraine\", \"syria\", \"NK\", \"Ukraine\", \"Poroshenko\", \"Maidan\", \"Ukraine_government\", \"libya\", \"soviet\", \"Donbass\", \"poland\", \"russian_people\", \"Donbas\", \"rebels\", \"russians\", \"ussr\", \"assad\", \"Russian_army\", \"Russians\", \"Crimea\", \"Eastern_Ukraine\", \"Ukraine\", \"soviets\", \"ukranian\", \"russian_soldiers\", \"chechens\", \"Ukrainians\", \"eastern_Ukraine\", \"belarus\", \"moldova\", \"NATO\", \"Chechnya\", \"russia\", \"Donbas\", \"Ukraine\", \"Crimea\", \"&gt;Ukraine\", \"russian_government\", \"Russian_rebels\", \"Ukranian\", \"western_Ukraine\", \"taliban\", \"baltic_states\", \"britain\", \"ethnic_russians\", \"israel\"]\n",
      "[\"fake_news\", \"twitter_account\", \"Twitter\", \"Buzzfeed\", \"Twitter\", \"Twitter\", \"Twitter\", \"Twitter\", \"Twitter_account\", \"twitter_bot\", \"Buzzfeed\", \"news_site\", \"twitter\", \"clickbait_articles\", \"social_media\", \"twitter_accounts\", \"buzzfeed\", \"tweets\", \"Twitter\", \"news_sites\", \"Buzzfeed\", \"clickbait_titles\", \"social_media_outlets\", \"Twitter\", \"gawker\", \"Twitter_posts\", \"Twitter\", \"Buzzfeed\", \"Twitter\", \"tweet\", \"Gawker\", \"shitty_website\", \"fake_stories\", \"breaking_news\", \"tweets\", \"social_media_site\", \"twitter_feed\", \"click_bait\", \"Facebook_posts\", \"retweet\", \"news_websites\", \"actual_news\", \"page_views\", \"hashtags\", \"Twitter_feed\", \"buzzfeed\", \"Gawker\", \"real_news\", \"Twitter\", \"shitty_site\", \"social_medias\", \"other_social_media\", \"news_website\", \"twitter\", \"click-bait\", \"click_bait_titles\", \"clickbait_headlines\", \"Gawker\", \"social_media_sites\", \"Gawker\", \"clickbait_article\", \"shitty_blog\", \"twitter_page\", \"important_news\", \"social_media_platforms\", \"news_source\", \"viral_videos\", \"reddit_posts\", \"Twitter\", \"twitter_handle\", \"Twitter_accounts\", \"comment_sections\", \"personal_blog\", \"TMZ\", \"Facebook/Twitter\", \"fake_accounts\", \"click-bait_titles\", \"click_bait_articles\", \"headlines\", \"TMZ\", \"retweeting\", \"other_social_media_sites\", \"news_outlets\", \"social_sites\", \"tweet\", \"reddit_comments\", \"Twitter\", \"message_board\", \"misleading_titles\", \"social_media_platform\", \"press_releases\", \"own_articles\", \"fake_story\", \"Facebook\"]\n",
      "[\"obama\", \"putin\", \"president\", \"POTUS\", \"Putin\", \"Obama\", \"George_Bush\", \"putin\", \"POTUS\", \"Obama\", \"Obama\", \"white_house\", \"Vladimir_Putin\", \"George_bush\", \"US_president\", \"current_president\", \"Kim_Jong-Un\", \"obama\", \"dictator\", \"potus\", \"George_W_Bush\", \"Obama\", \"prez\", \"netanyahu\", \"whitehouse\", \"politician\", \"Obama\", \"George_W._Bush\", \"last_president\", \"senator\", \"putin\", \"Kim_Jong_Un\", \"Bibi\", \"bibi\", \"GW_Bush\", \"Bill_Clinton\", \"nixon\", \"Dick_Cheney\", \"president_Obama\", \"_Putin\", \"Barack_Obama\", \"Obama\", \"ted_cruz\", \"Dubya\", \"George_W\", \"Putin\", \"Barack\", \"Medvedev\", \"_Obama\", \"Barrack_Obama\", \"american_people\", \"Obama\", \"Poroshenko\", \"Sarah_Palin\", \"Hilary_Clinton\", \"snowden\", \"&gt;Obama\", \"Obama\", \"Obamas\", \"republican_president\", \"Cheney\", \"hillary\", \"Lukashenko\", \"Erdogan\", \"Donald_Trump\", \"Poroshenko\", \"US_congress\", \"despot\", \"congress\", \"Xi_Jinping\", \"Bush\", \"US_President\", \"Kim_Jong\", \"John_McCain\", \"Kim_Jung_Un\", \"Jeb_Bush\", \"Jimmy_Carter\", \"Putin\", \"Bush_family\", \"Barack_Obama\", \"Hillary_Clinton\", \"Osama\", \"Netanyahu\", \"prime_minister\", \"G.W._Bush\", \"clinton\", \"american_government\", \"John_Boehner\", \"Erdogan\", \"Clinton\"]\n",
      "[\"informant\", \"fbi\", \"robert\", \"investigator\", \"detective\", \"FBI.\", \"jesse\", \"prosecuter\", \"co-conspirator\", \"flynn\", \"only_witness\", \"martin\", \"federal_agent\", \"sheriff\", \"dirty_cop\", \"witness\", \"state_attorney\", \"prosecutor\", \"key_witness\", \"detectives\", \"blackmailer\", \"Ulbricht\", \"marshall\", \"DEA_agent\", \"trayvon\", \"star_witness\", \"walt\", \"false_testimony\", \"smith\", \"DPR\", \"cheif\", \"vigilante\", \"robert\", \"Ulbricht\", \"marshal\", \"patsy\", \"bodyguard\", \"investigation\", \"sting_operation\", \"Durst\", \"allegedly\", \"andrew\", \"rob\", \"FBI\", \"actual_killer\", \"alleged\", \"indicted\", \"defense_team\", \"alleged\", \"prosecution\", \"prosecuting_attorney\", \"accomplice\", \"whistleblower\", \"defense_attorney\", \"criminal\", \"steve\", \"murderer\", \"undercover\", \"snowden\", \"main_witness\", \"DA\", \"jester\", \"federal_authorities\", \"district_attorney\", \"hernandez\", \"lawer\", \"DEA.\", \"conspirator\", \"co-defendant\", \"murder_investigation\", \"FBI_agent\", \"fugitive\", \"investigators\", \"vigilante\", \"william\", \"police\", \"inquest\", \"executioners\", \"conspirators\", \"implicating\", \"jay\", \"Ulbricht\", \"strangler\", \"peterson\", \"dead_man\", \"jason\", \"carver\", \"harry\", \"daniel\", \"darren\", \"entire_investigation\", \"Saul\"]\n",
      "[\"DNC\", \"DNC\", \"congressman\", \"Pres\", \"staffers\", \"senator\", \"Hilary_Clinton\", \"Hilary\", \"Congressman\", \"other_politicians\", \"Obama\", \"Obama\", \"campaign_trail\", \"presidential_campaign\", \"president\", \"Obama\", \"campaign_manager\", \"Hillary\", \"presidential_candidate\", \"Obama\", \"congressmen\", \"congressperson\", \"hillary\", \"staffer\", \"prez\", \"campaign_ads\", \"Jeb_Bush\", \"Bloomberg\", \"bernie\", \"Bernie\", \"Ron_Paul\", \"Hillary_Clinton\", \"POTUS\", \"Palin\", \"POTUS\", \"Palin\", \"Karl_Rove\", \"Clinton\", \"whitehouse\", \"Elizabeth_Warren\", \"the_White_House\", \"Feinstein\", \"Mrs._Clinton\", \"Romney\", \"campaign_staff\", \"politician\", \"Hillary\", \"Christie\", \"election_cycle\", \"Rove\", \"congressional\", \"presidential_candidates\", \"Sarah_Palin\", \"congress\", \"obama\", \"Benghazi\", \"campaign_money\", \"Boehner\", \"Cuomo\", \"Senator\", \"Palin\", \"election_campaign\", \"Barack_Obama\", \"Obama\", \"press_secretary\", \"Bernie\", \"presidential\", \"Nancy_Pelosi\", \"state_senator\", \"state_department\", \"Mitt_Romney\", \"Koch_Bros\", \"McConnell\", \"attack_ads\", \"Clinton\", \"Pres\", \"Obama\", \"election\", \"reelection\", \"political_ad\", \"Whitehouse\", \"Benghazi\", \"other_politician\", \"senators\", \"Kejriwal\", \"Bernie_Sanders\", \"Benghazi\", \"CPAC\", \"Pelosi\", \"Repubs\", \"talking_points\", \"vice_president\", \"congresspeople\", \"Modi\", \"potus\"]\n"
     ]
    }
   ],
   "source": [
    "#5 leksickih kategorija najcesce vezanih za ruske komentare, izvor ideje je naucni rad : \n",
    "lexicon.create_category(\"russia\",[\"russia\",\"putin\",\"moscow\",\"kremlin\",\"KGB\",\"ukraine\",\"russian\"],model=\"reddit\")\n",
    "lexicon.create_category(\"social_media\",[\"fake_news\",\"twitter_bot\",\"social_media\"],model=\"reddit\")\n",
    "lexicon.create_category(\"trump\",[\"donald_trump\",\"POTUS\",\"michael_flynn\",\"russian_collusion\",\"mueller_investigation\",\"putin\"],model=\"reddit\")\n",
    "lexicon.create_category(\"FBI\",[\"FBI\",\"investigation\",\"robert\",\"comey\",\"flynn\"],model=\"reddit\")\n",
    "lexicon.create_category(\"hilary\",[\"DNC\",\"emails\",\"bernie\"],model=\"reddit\")"
   ]
  },
  {
   "cell_type": "code",
   "execution_count": 45,
   "metadata": {
    "colab": {},
    "colab_type": "code",
    "id": "EnpGiNqIH0_8"
   },
   "outputs": [],
   "source": [
    "def Lexical_Score(x):\n",
    "    \"\"\"Dodeljivanje leksickog score-a svakom komentaru u odnosu na kontekst recenice\"\"\"\n",
    "    c=0\n",
    "    analyze=lexicon.analyze(x,categories=['russia,social_media',\"trump\",\"FBI\",\"hilary\"],normalize=True)\n",
    "    attrs=[w for k,w in analyze.items() if w >0]\n",
    "    if len(attrs)>0:\n",
    "        for attr in attrs:\n",
    "            c+=attr\n",
    "    return c"
   ]
  },
  {
   "cell_type": "code",
   "execution_count": 46,
   "metadata": {
    "colab": {},
    "colab_type": "code",
    "id": "Bx6mvhKuH_pt"
   },
   "outputs": [
    {
     "name": "stderr",
     "output_type": "stream",
     "text": [
      "d:\\ftn\\4 godina\\7 semestar\\soft kompjuting\\vezbe\\sc-2020-siit-main\\venv\\lib\\site-packages\\ipykernel_launcher.py:1: SettingWithCopyWarning: \n",
      "A value is trying to be set on a copy of a slice from a DataFrame.\n",
      "Try using .loc[row_indexer,col_indexer] = value instead\n",
      "\n",
      "See the caveats in the documentation: http://pandas.pydata.org/pandas-docs/stable/user_guide/indexing.html#returning-a-view-versus-a-copy\n",
      "  \"\"\"Entry point for launching an IPython kernel.\n"
     ]
    }
   ],
   "source": [
    "Russian_Bots[\"Lexical_Score\"]=Russian_Bots.body.apply(func=lambda x:Lexical_Score(x))"
   ]
  },
  {
   "cell_type": "code",
   "execution_count": 47,
   "metadata": {
    "colab": {},
    "colab_type": "code",
    "id": "0DSgKufUifLd"
   },
   "outputs": [],
   "source": [
    "Regular_Comments_Sample[\"Lexical_Score\"]=Regular_Comments_Sample.body.apply(func=lambda x:Lexical_Score(x))"
   ]
  },
  {
   "cell_type": "markdown",
   "metadata": {
    "colab_type": "text",
    "id": "H-MPz7D-serU"
   },
   "source": [
    "# Dodavanje jos nekih osnovnih feature vezanih za broj reci odnosno recenice"
   ]
  },
  {
   "cell_type": "code",
   "execution_count": 48,
   "metadata": {
    "colab": {},
    "colab_type": "code",
    "id": "zeL6KDfrsh4G"
   },
   "outputs": [
    {
     "name": "stderr",
     "output_type": "stream",
     "text": [
      "d:\\ftn\\4 godina\\7 semestar\\soft kompjuting\\vezbe\\sc-2020-siit-main\\venv\\lib\\site-packages\\ipykernel_launcher.py:2: SettingWithCopyWarning: \n",
      "A value is trying to be set on a copy of a slice from a DataFrame.\n",
      "Try using .loc[row_indexer,col_indexer] = value instead\n",
      "\n",
      "See the caveats in the documentation: http://pandas.pydata.org/pandas-docs/stable/user_guide/indexing.html#returning-a-view-versus-a-copy\n",
      "  \n"
     ]
    }
   ],
   "source": [
    "#broj reci\n",
    "Russian_Bots['word_count']=Russian_Bots['body'].apply(lambda x: len(x.split()))\n",
    "Regular_Comments_Sample['word_count']=Regular_Comments_Sample['body'].apply(lambda x: len(x.split()))"
   ]
  },
  {
   "cell_type": "code",
   "execution_count": 49,
   "metadata": {
    "colab": {},
    "colab_type": "code",
    "id": "k3jPtdDBs1PG"
   },
   "outputs": [
    {
     "name": "stderr",
     "output_type": "stream",
     "text": [
      "d:\\ftn\\4 godina\\7 semestar\\soft kompjuting\\vezbe\\sc-2020-siit-main\\venv\\lib\\site-packages\\ipykernel_launcher.py:2: SettingWithCopyWarning: \n",
      "A value is trying to be set on a copy of a slice from a DataFrame.\n",
      "Try using .loc[row_indexer,col_indexer] = value instead\n",
      "\n",
      "See the caveats in the documentation: http://pandas.pydata.org/pandas-docs/stable/user_guide/indexing.html#returning-a-view-versus-a-copy\n",
      "  \n"
     ]
    }
   ],
   "source": [
    "#Znakovi interpunkcije\n",
    "Russian_Bots['punctuation_count']=Russian_Bots['body'].apply(lambda x: len(\"\".join(punc for punc in x if punc in string.punctuation))) \n",
    "Regular_Comments_Sample['punctuation_count']=Regular_Comments_Sample['body'].apply(lambda x: len(\"\".join(punc for punc in x if punc in string.punctuation))) "
   ]
  },
  {
   "cell_type": "code",
   "execution_count": 50,
   "metadata": {
    "colab": {},
    "colab_type": "code",
    "id": "IkKMz_Ldt6jV"
   },
   "outputs": [
    {
     "name": "stderr",
     "output_type": "stream",
     "text": [
      "d:\\ftn\\4 godina\\7 semestar\\soft kompjuting\\vezbe\\sc-2020-siit-main\\venv\\lib\\site-packages\\ipykernel_launcher.py:2: SettingWithCopyWarning: \n",
      "A value is trying to be set on a copy of a slice from a DataFrame.\n",
      "Try using .loc[row_indexer,col_indexer] = value instead\n",
      "\n",
      "See the caveats in the documentation: http://pandas.pydata.org/pandas-docs/stable/user_guide/indexing.html#returning-a-view-versus-a-copy\n",
      "  \n"
     ]
    }
   ],
   "source": [
    "#Pocetna velika slova\n",
    "Russian_Bots['upper_case_word_count'] = Russian_Bots.body.apply(lambda x: len([word for word in x.split() if word.isupper()]))\n",
    "Regular_Comments_Sample['upper_case_word_count'] = Regular_Comments_Sample.body.apply(lambda x: len([word for word in x.split() if word.isupper()]))"
   ]
  },
  {
   "cell_type": "code",
   "execution_count": 51,
   "metadata": {
    "colab": {},
    "colab_type": "code",
    "id": "vFPMUH6MMoq_"
   },
   "outputs": [],
   "source": [
    "#Izdvajanje bitnih kolona\n",
    "Regular_Comments_Sample=Regular_Comments_Sample[[\"Time\",\"Named_entities\",\"Polarity\",\n",
    "                     \"Flesch_Kincaid\",\"Lexical_Score\",\"word_count\",\"punctuation_count\",\n",
    "                     \"upper_case_word_count\"]]\n",
    "Russian_Bots=Russian_Bots[[\"Time\",\"Named_entities\",\"Polarity\",\n",
    "                     \"Flesch_Kincaid\",\"Lexical_Score\",\"word_count\",\"punctuation_count\",\n",
    "                     \"upper_case_word_count\"]]\n"
   ]
  },
  {
   "cell_type": "code",
   "execution_count": 52,
   "metadata": {
    "colab": {},
    "colab_type": "code",
    "id": "zJ0h4QydOBKj"
   },
   "outputs": [],
   "source": [
    "#Dodavanje labela\n",
    "Regular_Comments_Sample[\"Label\"]=[\"0\" for x in range(len(Regular_Comments_Sample))]\n",
    "Russian_Bots[\"Label\"]=[\"1\" for x in range(len(Regular_Comments_Sample))]"
   ]
  },
  {
   "cell_type": "code",
   "execution_count": 53,
   "metadata": {
    "colab": {},
    "colab_type": "code",
    "id": "g25Jqs5sOe_4"
   },
   "outputs": [],
   "source": [
    "#Spajanja datasetova\n",
    "total=Regular_Comments_Sample.append(Russian_Bots)"
   ]
  },
  {
   "cell_type": "code",
   "execution_count": 54,
   "metadata": {
    "colab": {},
    "colab_type": "code",
    "id": "XcoGYpsgOqrj"
   },
   "outputs": [],
   "source": [
    "#Ukupan broj named entities za svaki komentar\n",
    "total[\"Named_entities\"]=total.Named_entities.apply(lambda x:len(x))"
   ]
  },
  {
   "cell_type": "markdown",
   "metadata": {
    "colab_type": "text",
    "id": "z06Aj_uh1w47"
   },
   "source": [
    "#Baseline test"
   ]
  },
  {
   "cell_type": "code",
   "execution_count": 55,
   "metadata": {
    "colab": {},
    "colab_type": "code",
    "id": "IHPtsuL7Ogs8"
   },
   "outputs": [],
   "source": [
    "#oznacavanje bot i regularnih komentara\n",
    "Russian_Bots[\"Troll_Status\"]=[\"Russian\" for x in range(len(Russian_Bots))]\n",
    "Regular_Comments_Sample[\"Troll_Status\"]=[\"Non-Russian\" for x in range(len(Russian_Bots))]\n",
    "appended=np.array(Regular_Comments_Sample.append(Russian_Bots)[\"Troll_Status\"])"
   ]
  },
  {
   "cell_type": "code",
   "execution_count": 56,
   "metadata": {
    "colab": {},
    "colab_type": "code",
    "id": "HufkYcEVQAe2"
   },
   "outputs": [],
   "source": [
    "#Lista sa random oznakama da li je komentar bot ili regularan\n",
    "actual=list(pd.Series(appended))\n",
    "troll=[\"Russian\" for x in range(len(Russian_Bots))]\n",
    "not_troll=[\"Non-Russian\" for x in range(len(Russian_Bots))]\n",
    "combined=troll+not_troll"
   ]
  },
  {
   "cell_type": "code",
   "execution_count": 57,
   "metadata": {
    "colab": {},
    "colab_type": "code",
    "id": "RKPGjPf_Rrzl"
   },
   "outputs": [],
   "source": [
    "\n",
    "shuffle(combined)\n",
    "shuffle(appended)"
   ]
  },
  {
   "cell_type": "code",
   "execution_count": 58,
   "metadata": {
    "colab": {
     "base_uri": "https://localhost:8080/",
     "height": 34
    },
    "colab_type": "code",
    "id": "k5mIKF0xQpbG",
    "outputId": "79dba27a-6e5d-4fe9-c99f-f1384bbbc198"
   },
   "outputs": [
    {
     "name": "stdout",
     "output_type": "stream",
     "text": [
      "50.081954999254954\n"
     ]
    }
   ],
   "source": [
    "#Accuracy, logicno je da je oko 50% posto je random\n",
    "x=0\n",
    "for label in range(len(actual)):\n",
    "    if actual[label]==combined[label]:\n",
    "        x+=1\n",
    "print(x/len(combined)*100)"
   ]
  },
  {
   "cell_type": "code",
   "execution_count": 59,
   "metadata": {
    "colab": {},
    "colab_type": "code",
    "id": "JqkeEpOGUiw7"
   },
   "outputs": [],
   "source": [
    "#Random predikcije proveravanje rezultata\n",
    "actual_converted=[]\n",
    "test=[]\n",
    "for label in actual:\n",
    "  if label==\"Non-Russian\":\n",
    "    actual_converted.append(0)\n",
    "  else:\n",
    "    actual_converted.append(1)\n",
    "for label in combined:\n",
    "  if label==\"Non-Russian\":\n",
    "    test.append(0)\n",
    "\n",
    "  else:\n",
    "    test.append(1)"
   ]
  },
  {
   "cell_type": "code",
   "execution_count": 60,
   "metadata": {
    "colab": {
     "base_uri": "https://localhost:8080/",
     "height": 34
    },
    "colab_type": "code",
    "id": "WD-UsEdCVepS",
    "outputId": "0f4c7a37-ad32-4532-9b52-6d72e5d1e946"
   },
   "outputs": [
    {
     "data": {
      "text/plain": [
       "0.5008195499925495"
      ]
     },
     "execution_count": 60,
     "metadata": {},
     "output_type": "execute_result"
    }
   ],
   "source": [
    "# Recall\n",
    "metrics.recall_score(actual_converted,test)"
   ]
  },
  {
   "cell_type": "code",
   "execution_count": 61,
   "metadata": {
    "colab": {
     "base_uri": "https://localhost:8080/",
     "height": 34
    },
    "colab_type": "code",
    "id": "N8rWJYiNWyLJ",
    "outputId": "3bd05e55-74f6-4c60-d8c9-07640f895453"
   },
   "outputs": [
    {
     "data": {
      "text/plain": [
       "0.5008195499925496"
      ]
     },
     "execution_count": 61,
     "metadata": {},
     "output_type": "execute_result"
    }
   ],
   "source": [
    "# AUC\n",
    "metrics.roc_auc_score(actual_converted,test)"
   ]
  },
  {
   "cell_type": "markdown",
   "metadata": {
    "colab_type": "text",
    "id": "zmQDC24-YcgC"
   },
   "source": [
    "# Random Forest"
   ]
  },
  {
   "cell_type": "code",
   "execution_count": 62,
   "metadata": {
    "colab": {},
    "colab_type": "code",
    "id": "HQ1UnbolYkad"
   },
   "outputs": [],
   "source": [
    "#novi index\n",
    "total.index=list(range(len(total)))\n"
   ]
  },
  {
   "cell_type": "code",
   "execution_count": 63,
   "metadata": {
    "colab": {},
    "colab_type": "code",
    "id": "loJb5gHibb78"
   },
   "outputs": [],
   "source": [
    "#Random mesanje redova\n",
    "shuffled_rows=total.reindex(np.random.permutation(total.index))"
   ]
  },
  {
   "cell_type": "code",
   "execution_count": 64,
   "metadata": {
    "colab": {},
    "colab_type": "code",
    "id": "HKLu_cPyeBB7"
   },
   "outputs": [],
   "source": [
    "#Izbacivanje N/A redova\n",
    "shuffled_rows.dropna(inplace=True)"
   ]
  },
  {
   "cell_type": "code",
   "execution_count": 65,
   "metadata": {
    "colab": {},
    "colab_type": "code",
    "id": "ivOfBy6KcgqF"
   },
   "outputs": [],
   "source": [
    "\n",
    "X=shuffled_rows.iloc[:,:-1]#nezavisne promenljive\n",
    "y=shuffled_rows.iloc[:,-1]#vrednosti koje se prediktuju"
   ]
  },
  {
   "cell_type": "code",
   "execution_count": 66,
   "metadata": {
    "colab": {
     "base_uri": "https://localhost:8080/",
     "height": 517
    },
    "colab_type": "code",
    "id": "8p9REzXcE7wj",
    "outputId": "075f8e2f-0ac6-47b4-8488-70c0d0800bcd"
   },
   "outputs": [
    {
     "data": {
      "image/png": "[encoded data removed]",
      "text/plain": [
       "<Figure size 720x432 with 2 Axes>"
      ]
     },
     "metadata": {
      "needs_background": "light"
     },
     "output_type": "display_data"
    }
   ],
   "source": [
    "f, ax = plt.subplots(figsize=(10, 6))\n",
    "corr = X.corr()\n",
    "hm = sns.heatmap(round(corr,2), annot=True, ax=ax, cmap=\"coolwarm\",fmt='.2f',\n",
    "                 linewidths=.05)\n",
    "f.subplots_adjust(top=0.93)\n",
    "t= f.suptitle('Korelacija izmedju parametara modela', fontsize=14)"
   ]
  },
  {
   "cell_type": "code",
   "execution_count": 67,
   "metadata": {
    "colab": {},
    "colab_type": "code",
    "id": "LzHUBYpVcmAR"
   },
   "outputs": [],
   "source": [
    "#Train/Test\n",
    "X_train, X_test, y_train, y_test = train_test_split(X, y, test_size=0.2, random_state=0)  "
   ]
  },
  {
   "cell_type": "code",
   "execution_count": 68,
   "metadata": {
    "colab": {},
    "colab_type": "code",
    "id": "fB8ZrTsactJC"
   },
   "outputs": [],
   "source": [
    "#Standardizovanje podataka\n",
    "sc = StandardScaler()  \n",
    "X_train = sc.fit_transform(X_train)  \n",
    "X_test = sc.transform(X_test)  "
   ]
  },
  {
   "cell_type": "code",
   "execution_count": 69,
   "metadata": {
    "colab": {},
    "colab_type": "code",
    "id": "zCnXlOGreWjL"
   },
   "outputs": [],
   "source": [
    "#Random Forest algoritam za klasifikovanje\n",
    "Classifier = RandomForestClassifier(n_estimators=20, random_state=0)  \n",
    "Classifier.fit(X_train, y_train)  \n",
    "y_pred = Classifier.predict(X_test) "
   ]
  },
  {
   "cell_type": "code",
   "execution_count": 70,
   "metadata": {},
   "outputs": [],
   "source": [
    "y_pred=y_pred.astype(int)\n",
    "y_test_int=y_test.astype(int)"
   ]
  },
  {
   "cell_type": "code",
   "execution_count": 71,
   "metadata": {},
   "outputs": [
    {
     "data": {
      "text/plain": [
       "0.6889055472263869"
      ]
     },
     "execution_count": 71,
     "metadata": {},
     "output_type": "execute_result"
    }
   ],
   "source": [
    "# Recall\n",
    "metrics.recall_score(y_test_int,y_pred)"
   ]
  },
  {
   "cell_type": "code",
   "execution_count": 72,
   "metadata": {},
   "outputs": [
    {
     "data": {
      "text/plain": [
       "0.6812403383800328"
      ]
     },
     "execution_count": 72,
     "metadata": {},
     "output_type": "execute_result"
    }
   ],
   "source": [
    "#auc\n",
    "metrics.roc_auc_score(y_test_int,y_pred)"
   ]
  },
  {
   "cell_type": "code",
   "execution_count": 73,
   "metadata": {
    "colab": {},
    "colab_type": "code",
    "id": "ombWMGpm1ykG"
   },
   "outputs": [
    {
     "name": "stderr",
     "output_type": "stream",
     "text": [
      "d:\\ftn\\4 godina\\7 semestar\\soft kompjuting\\vezbe\\sc-2020-siit-main\\venv\\lib\\site-packages\\sklearn\\ensemble\\forest.py:245: FutureWarning: The default value of n_estimators will change from 10 in version 0.20 to 100 in 0.22.\n",
      "  \"10 in version 0.20 to 100 in 0.22.\", FutureWarning)\n"
     ]
    },
    {
     "data": {
      "image/png": "[encoded data removed]",
      "text/plain": [
       "<Figure size 432x288 with 2 Axes>"
      ]
     },
     "metadata": {
      "needs_background": "light"
     },
     "output_type": "display_data"
    }
   ],
   "source": [
    "visualizer = ClassificationReport(RandomForestClassifier() ,cmap='BuPu',title=\"Normal Random Forest Parameters\",classes=[\"Non-Troll\",\"Troll\"], support=True)\n",
    "visualizer.fit(X_train, y_train)  # Fitovanje vizualizatora i modela\n",
    "visualizer.score(X_test, y_test)  # Evaluacija modela na test podacima\n",
    "g = visualizer.poof()             # vizualizovanje podataka"
   ]
  }
 ],
 "metadata": {
  "colab": {
   "name": "Final_Project.ipynb",
   "provenance": [],
   "version": "0.3.2"
  },
  "kernelspec": {
   "display_name": "Python 3",
   "language": "python",
   "name": "python3"
  },
  "language_info": {
   "codemirror_mode": {
    "name": "ipython",
    "version": 3
   },
   "file_extension": ".py",
   "mimetype": "text/x-python",
   "name": "python",
   "nbconvert_exporter": "python",
   "pygments_lexer": "ipython3",
   "version": "3.6.5"
  }
 },
 "nbformat": 4,
 "nbformat_minor": 2
}
